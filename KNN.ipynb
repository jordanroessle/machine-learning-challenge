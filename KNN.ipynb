{
 "cells": [
  {
   "cell_type": "code",
   "execution_count": 1,
   "metadata": {},
   "outputs": [
    {
     "name": "stdout",
     "output_type": "stream",
     "text": [
      "Requirement already up-to-date: sklearn in c:\\users\\jordanroessle\\anaconda3\\lib\\site-packages (0.0)\n",
      "Requirement already satisfied, skipping upgrade: scikit-learn in c:\\users\\jordanroessle\\anaconda3\\lib\\site-packages (from sklearn) (0.23.2)\n",
      "Requirement already satisfied, skipping upgrade: scipy>=0.19.1 in c:\\users\\jordanroessle\\anaconda3\\lib\\site-packages (from scikit-learn->sklearn) (1.5.2)\n",
      "Requirement already satisfied, skipping upgrade: threadpoolctl>=2.0.0 in c:\\users\\jordanroessle\\anaconda3\\lib\\site-packages (from scikit-learn->sklearn) (2.1.0)\n",
      "Requirement already satisfied, skipping upgrade: numpy>=1.13.3 in c:\\users\\jordanroessle\\anaconda3\\lib\\site-packages (from scikit-learn->sklearn) (1.19.2)\n",
      "Requirement already satisfied, skipping upgrade: joblib>=0.11 in c:\\users\\jordanroessle\\anaconda3\\lib\\site-packages (from scikit-learn->sklearn) (0.17.0)\n"
     ]
    }
   ],
   "source": [
    "# Update sklearn to prevent version mismatches\n",
    "!pip install sklearn --upgrade"
   ]
  },
  {
   "cell_type": "code",
   "execution_count": 2,
   "metadata": {},
   "outputs": [
    {
     "name": "stdout",
     "output_type": "stream",
     "text": [
      "Requirement already satisfied: joblib in c:\\users\\jordanroessle\\anaconda3\\lib\\site-packages (0.17.0)\n"
     ]
    }
   ],
   "source": [
    "# install joblib. This will be used to save your model. \n",
    "# Restart your kernel after installing \n",
    "!pip install joblib"
   ]
  },
  {
   "cell_type": "code",
   "execution_count": 3,
   "metadata": {},
   "outputs": [],
   "source": [
    "import pandas as pd"
   ]
  },
  {
   "cell_type": "markdown",
   "metadata": {},
   "source": [
    "# Read the CSV and Perform Basic Data Cleaning"
   ]
  },
  {
   "cell_type": "code",
   "execution_count": 4,
   "metadata": {},
   "outputs": [
    {
     "data": {
      "text/html": [
       "<div>\n",
       "<style scoped>\n",
       "    .dataframe tbody tr th:only-of-type {\n",
       "        vertical-align: middle;\n",
       "    }\n",
       "\n",
       "    .dataframe tbody tr th {\n",
       "        vertical-align: top;\n",
       "    }\n",
       "\n",
       "    .dataframe thead th {\n",
       "        text-align: right;\n",
       "    }\n",
       "</style>\n",
       "<table border=\"1\" class=\"dataframe\">\n",
       "  <thead>\n",
       "    <tr style=\"text-align: right;\">\n",
       "      <th></th>\n",
       "      <th>koi_disposition</th>\n",
       "      <th>koi_fpflag_nt</th>\n",
       "      <th>koi_fpflag_ss</th>\n",
       "      <th>koi_fpflag_co</th>\n",
       "      <th>koi_fpflag_ec</th>\n",
       "      <th>koi_period</th>\n",
       "      <th>koi_period_err1</th>\n",
       "      <th>koi_period_err2</th>\n",
       "      <th>koi_time0bk</th>\n",
       "      <th>koi_time0bk_err1</th>\n",
       "      <th>...</th>\n",
       "      <th>koi_steff_err2</th>\n",
       "      <th>koi_slogg</th>\n",
       "      <th>koi_slogg_err1</th>\n",
       "      <th>koi_slogg_err2</th>\n",
       "      <th>koi_srad</th>\n",
       "      <th>koi_srad_err1</th>\n",
       "      <th>koi_srad_err2</th>\n",
       "      <th>ra</th>\n",
       "      <th>dec</th>\n",
       "      <th>koi_kepmag</th>\n",
       "    </tr>\n",
       "  </thead>\n",
       "  <tbody>\n",
       "    <tr>\n",
       "      <th>0</th>\n",
       "      <td>CONFIRMED</td>\n",
       "      <td>0</td>\n",
       "      <td>0</td>\n",
       "      <td>0</td>\n",
       "      <td>0</td>\n",
       "      <td>54.418383</td>\n",
       "      <td>2.479000e-04</td>\n",
       "      <td>-2.479000e-04</td>\n",
       "      <td>162.513840</td>\n",
       "      <td>0.003520</td>\n",
       "      <td>...</td>\n",
       "      <td>-81</td>\n",
       "      <td>4.467</td>\n",
       "      <td>0.064</td>\n",
       "      <td>-0.096</td>\n",
       "      <td>0.927</td>\n",
       "      <td>0.105</td>\n",
       "      <td>-0.061</td>\n",
       "      <td>291.93423</td>\n",
       "      <td>48.141651</td>\n",
       "      <td>15.347</td>\n",
       "    </tr>\n",
       "    <tr>\n",
       "      <th>1</th>\n",
       "      <td>FALSE POSITIVE</td>\n",
       "      <td>0</td>\n",
       "      <td>1</td>\n",
       "      <td>0</td>\n",
       "      <td>0</td>\n",
       "      <td>19.899140</td>\n",
       "      <td>1.490000e-05</td>\n",
       "      <td>-1.490000e-05</td>\n",
       "      <td>175.850252</td>\n",
       "      <td>0.000581</td>\n",
       "      <td>...</td>\n",
       "      <td>-176</td>\n",
       "      <td>4.544</td>\n",
       "      <td>0.044</td>\n",
       "      <td>-0.176</td>\n",
       "      <td>0.868</td>\n",
       "      <td>0.233</td>\n",
       "      <td>-0.078</td>\n",
       "      <td>297.00482</td>\n",
       "      <td>48.134129</td>\n",
       "      <td>15.436</td>\n",
       "    </tr>\n",
       "    <tr>\n",
       "      <th>2</th>\n",
       "      <td>FALSE POSITIVE</td>\n",
       "      <td>0</td>\n",
       "      <td>1</td>\n",
       "      <td>0</td>\n",
       "      <td>0</td>\n",
       "      <td>1.736952</td>\n",
       "      <td>2.630000e-07</td>\n",
       "      <td>-2.630000e-07</td>\n",
       "      <td>170.307565</td>\n",
       "      <td>0.000115</td>\n",
       "      <td>...</td>\n",
       "      <td>-174</td>\n",
       "      <td>4.564</td>\n",
       "      <td>0.053</td>\n",
       "      <td>-0.168</td>\n",
       "      <td>0.791</td>\n",
       "      <td>0.201</td>\n",
       "      <td>-0.067</td>\n",
       "      <td>285.53461</td>\n",
       "      <td>48.285210</td>\n",
       "      <td>15.597</td>\n",
       "    </tr>\n",
       "    <tr>\n",
       "      <th>3</th>\n",
       "      <td>CONFIRMED</td>\n",
       "      <td>0</td>\n",
       "      <td>0</td>\n",
       "      <td>0</td>\n",
       "      <td>0</td>\n",
       "      <td>2.525592</td>\n",
       "      <td>3.760000e-06</td>\n",
       "      <td>-3.760000e-06</td>\n",
       "      <td>171.595550</td>\n",
       "      <td>0.001130</td>\n",
       "      <td>...</td>\n",
       "      <td>-211</td>\n",
       "      <td>4.438</td>\n",
       "      <td>0.070</td>\n",
       "      <td>-0.210</td>\n",
       "      <td>1.046</td>\n",
       "      <td>0.334</td>\n",
       "      <td>-0.133</td>\n",
       "      <td>288.75488</td>\n",
       "      <td>48.226200</td>\n",
       "      <td>15.509</td>\n",
       "    </tr>\n",
       "    <tr>\n",
       "      <th>4</th>\n",
       "      <td>CONFIRMED</td>\n",
       "      <td>0</td>\n",
       "      <td>0</td>\n",
       "      <td>0</td>\n",
       "      <td>0</td>\n",
       "      <td>4.134435</td>\n",
       "      <td>1.050000e-05</td>\n",
       "      <td>-1.050000e-05</td>\n",
       "      <td>172.979370</td>\n",
       "      <td>0.001900</td>\n",
       "      <td>...</td>\n",
       "      <td>-232</td>\n",
       "      <td>4.486</td>\n",
       "      <td>0.054</td>\n",
       "      <td>-0.229</td>\n",
       "      <td>0.972</td>\n",
       "      <td>0.315</td>\n",
       "      <td>-0.105</td>\n",
       "      <td>296.28613</td>\n",
       "      <td>48.224670</td>\n",
       "      <td>15.714</td>\n",
       "    </tr>\n",
       "  </tbody>\n",
       "</table>\n",
       "<p>5 rows × 41 columns</p>\n",
       "</div>"
      ],
      "text/plain": [
       "  koi_disposition  koi_fpflag_nt  koi_fpflag_ss  koi_fpflag_co  koi_fpflag_ec  \\\n",
       "0       CONFIRMED              0              0              0              0   \n",
       "1  FALSE POSITIVE              0              1              0              0   \n",
       "2  FALSE POSITIVE              0              1              0              0   \n",
       "3       CONFIRMED              0              0              0              0   \n",
       "4       CONFIRMED              0              0              0              0   \n",
       "\n",
       "   koi_period  koi_period_err1  koi_period_err2  koi_time0bk  \\\n",
       "0   54.418383     2.479000e-04    -2.479000e-04   162.513840   \n",
       "1   19.899140     1.490000e-05    -1.490000e-05   175.850252   \n",
       "2    1.736952     2.630000e-07    -2.630000e-07   170.307565   \n",
       "3    2.525592     3.760000e-06    -3.760000e-06   171.595550   \n",
       "4    4.134435     1.050000e-05    -1.050000e-05   172.979370   \n",
       "\n",
       "   koi_time0bk_err1  ...  koi_steff_err2  koi_slogg  koi_slogg_err1  \\\n",
       "0          0.003520  ...             -81      4.467           0.064   \n",
       "1          0.000581  ...            -176      4.544           0.044   \n",
       "2          0.000115  ...            -174      4.564           0.053   \n",
       "3          0.001130  ...            -211      4.438           0.070   \n",
       "4          0.001900  ...            -232      4.486           0.054   \n",
       "\n",
       "   koi_slogg_err2  koi_srad  koi_srad_err1  koi_srad_err2         ra  \\\n",
       "0          -0.096     0.927          0.105         -0.061  291.93423   \n",
       "1          -0.176     0.868          0.233         -0.078  297.00482   \n",
       "2          -0.168     0.791          0.201         -0.067  285.53461   \n",
       "3          -0.210     1.046          0.334         -0.133  288.75488   \n",
       "4          -0.229     0.972          0.315         -0.105  296.28613   \n",
       "\n",
       "         dec  koi_kepmag  \n",
       "0  48.141651      15.347  \n",
       "1  48.134129      15.436  \n",
       "2  48.285210      15.597  \n",
       "3  48.226200      15.509  \n",
       "4  48.224670      15.714  \n",
       "\n",
       "[5 rows x 41 columns]"
      ]
     },
     "execution_count": 4,
     "metadata": {},
     "output_type": "execute_result"
    }
   ],
   "source": [
    "df = pd.read_csv(\"exoplanet_data.csv\")\n",
    "# Drop the null columns where all values are null\n",
    "df = df.dropna(axis='columns', how='all')\n",
    "# Drop the null rows\n",
    "df = df.dropna()\n",
    "df.head()"
   ]
  },
  {
   "cell_type": "markdown",
   "metadata": {},
   "source": [
    "# Select your features (columns)"
   ]
  },
  {
   "cell_type": "code",
   "execution_count": 5,
   "metadata": {},
   "outputs": [
    {
     "data": {
      "text/plain": [
       "Index(['koi_disposition', 'koi_fpflag_nt', 'koi_fpflag_ss', 'koi_fpflag_co',\n",
       "       'koi_fpflag_ec', 'koi_period', 'koi_period_err1', 'koi_period_err2',\n",
       "       'koi_time0bk', 'koi_time0bk_err1', 'koi_time0bk_err2', 'koi_impact',\n",
       "       'koi_impact_err1', 'koi_impact_err2', 'koi_duration',\n",
       "       'koi_duration_err1', 'koi_duration_err2', 'koi_depth', 'koi_depth_err1',\n",
       "       'koi_depth_err2', 'koi_prad', 'koi_prad_err1', 'koi_prad_err2',\n",
       "       'koi_teq', 'koi_insol', 'koi_insol_err1', 'koi_insol_err2',\n",
       "       'koi_model_snr', 'koi_tce_plnt_num', 'koi_steff', 'koi_steff_err1',\n",
       "       'koi_steff_err2', 'koi_slogg', 'koi_slogg_err1', 'koi_slogg_err2',\n",
       "       'koi_srad', 'koi_srad_err1', 'koi_srad_err2', 'ra', 'dec',\n",
       "       'koi_kepmag'],\n",
       "      dtype='object')"
      ]
     },
     "execution_count": 5,
     "metadata": {},
     "output_type": "execute_result"
    }
   ],
   "source": [
    "df.columns"
   ]
  },
  {
   "cell_type": "code",
   "execution_count": 6,
   "metadata": {},
   "outputs": [],
   "source": [
    "# Set features. This will also be used as your x values.\n",
    "selected_features = df[['koi_fpflag_nt', \n",
    "                        'koi_fpflag_ss', \n",
    "                        'koi_fpflag_co', \n",
    "                        'koi_fpflag_ec', \n",
    "                        'koi_period',\n",
    "                       'koi_time0bk',\n",
    "                       'koi_impact',\n",
    "                       'koi_duration',\n",
    "                       'koi_depth',\n",
    "                       'koi_prad',\n",
    "                       'koi_teq',\n",
    "                       'koi_insol',\n",
    "                       'koi_model_snr',\n",
    "                       'koi_tce_plnt_num',\n",
    "                       'koi_steff',\n",
    "                       'koi_slogg',\n",
    "                       'koi_srad',\n",
    "                       'ra',\n",
    "                       'dec',\n",
    "                       'koi_kepmag']]"
   ]
  },
  {
   "cell_type": "markdown",
   "metadata": {},
   "source": [
    "# Create a Train Test Split\n",
    "\n",
    "Use `koi_disposition` for the y values"
   ]
  },
  {
   "cell_type": "code",
   "execution_count": 7,
   "metadata": {},
   "outputs": [
    {
     "name": "stdout",
     "output_type": "stream",
     "text": [
      "(6991, 20) (6991,)\n"
     ]
    }
   ],
   "source": [
    "X = selected_features\n",
    "y = df[\"koi_disposition\"]\n",
    "\n",
    "print(X.shape, y.shape)"
   ]
  },
  {
   "cell_type": "code",
   "execution_count": 8,
   "metadata": {},
   "outputs": [
    {
     "data": {
      "text/html": [
       "<div>\n",
       "<style scoped>\n",
       "    .dataframe tbody tr th:only-of-type {\n",
       "        vertical-align: middle;\n",
       "    }\n",
       "\n",
       "    .dataframe tbody tr th {\n",
       "        vertical-align: top;\n",
       "    }\n",
       "\n",
       "    .dataframe thead th {\n",
       "        text-align: right;\n",
       "    }\n",
       "</style>\n",
       "<table border=\"1\" class=\"dataframe\">\n",
       "  <thead>\n",
       "    <tr style=\"text-align: right;\">\n",
       "      <th></th>\n",
       "      <th>koi_fpflag_nt</th>\n",
       "      <th>koi_fpflag_ss</th>\n",
       "      <th>koi_fpflag_co</th>\n",
       "      <th>koi_fpflag_ec</th>\n",
       "      <th>koi_period</th>\n",
       "      <th>koi_time0bk</th>\n",
       "      <th>koi_impact</th>\n",
       "      <th>koi_duration</th>\n",
       "      <th>koi_depth</th>\n",
       "      <th>koi_prad</th>\n",
       "      <th>koi_teq</th>\n",
       "      <th>koi_insol</th>\n",
       "      <th>koi_model_snr</th>\n",
       "      <th>koi_tce_plnt_num</th>\n",
       "      <th>koi_steff</th>\n",
       "      <th>koi_slogg</th>\n",
       "      <th>koi_srad</th>\n",
       "      <th>ra</th>\n",
       "      <th>dec</th>\n",
       "      <th>koi_kepmag</th>\n",
       "    </tr>\n",
       "  </thead>\n",
       "  <tbody>\n",
       "    <tr>\n",
       "      <th>619</th>\n",
       "      <td>0</td>\n",
       "      <td>1</td>\n",
       "      <td>0</td>\n",
       "      <td>0</td>\n",
       "      <td>15.068061</td>\n",
       "      <td>363.549714</td>\n",
       "      <td>0.8800</td>\n",
       "      <td>3.3011</td>\n",
       "      <td>19387.0</td>\n",
       "      <td>16.43</td>\n",
       "      <td>742</td>\n",
       "      <td>71.78</td>\n",
       "      <td>282.8</td>\n",
       "      <td>1</td>\n",
       "      <td>5982</td>\n",
       "      <td>4.493</td>\n",
       "      <td>0.960</td>\n",
       "      <td>295.47830</td>\n",
       "      <td>39.867722</td>\n",
       "      <td>15.950</td>\n",
       "    </tr>\n",
       "    <tr>\n",
       "      <th>6179</th>\n",
       "      <td>1</td>\n",
       "      <td>0</td>\n",
       "      <td>0</td>\n",
       "      <td>0</td>\n",
       "      <td>364.339290</td>\n",
       "      <td>183.317300</td>\n",
       "      <td>0.9340</td>\n",
       "      <td>13.4860</td>\n",
       "      <td>1944.0</td>\n",
       "      <td>4.40</td>\n",
       "      <td>228</td>\n",
       "      <td>0.64</td>\n",
       "      <td>15.9</td>\n",
       "      <td>1</td>\n",
       "      <td>5606</td>\n",
       "      <td>4.557</td>\n",
       "      <td>0.800</td>\n",
       "      <td>287.71542</td>\n",
       "      <td>45.436329</td>\n",
       "      <td>15.616</td>\n",
       "    </tr>\n",
       "    <tr>\n",
       "      <th>4321</th>\n",
       "      <td>1</td>\n",
       "      <td>0</td>\n",
       "      <td>0</td>\n",
       "      <td>0</td>\n",
       "      <td>349.588110</td>\n",
       "      <td>183.058700</td>\n",
       "      <td>0.1899</td>\n",
       "      <td>5.0520</td>\n",
       "      <td>373.3</td>\n",
       "      <td>134.79</td>\n",
       "      <td>1351</td>\n",
       "      <td>787.87</td>\n",
       "      <td>11.6</td>\n",
       "      <td>1</td>\n",
       "      <td>3860</td>\n",
       "      <td>0.949</td>\n",
       "      <td>74.320</td>\n",
       "      <td>295.16342</td>\n",
       "      <td>39.180187</td>\n",
       "      <td>12.989</td>\n",
       "    </tr>\n",
       "    <tr>\n",
       "      <th>81</th>\n",
       "      <td>0</td>\n",
       "      <td>0</td>\n",
       "      <td>0</td>\n",
       "      <td>0</td>\n",
       "      <td>4.783003</td>\n",
       "      <td>170.508434</td>\n",
       "      <td>0.0030</td>\n",
       "      <td>2.3350</td>\n",
       "      <td>1008.7</td>\n",
       "      <td>2.50</td>\n",
       "      <td>886</td>\n",
       "      <td>145.48</td>\n",
       "      <td>70.6</td>\n",
       "      <td>1</td>\n",
       "      <td>5170</td>\n",
       "      <td>4.574</td>\n",
       "      <td>0.807</td>\n",
       "      <td>287.09399</td>\n",
       "      <td>39.060719</td>\n",
       "      <td>15.119</td>\n",
       "    </tr>\n",
       "    <tr>\n",
       "      <th>4803</th>\n",
       "      <td>0</td>\n",
       "      <td>0</td>\n",
       "      <td>0</td>\n",
       "      <td>0</td>\n",
       "      <td>9.358925</td>\n",
       "      <td>133.482000</td>\n",
       "      <td>0.1840</td>\n",
       "      <td>3.1690</td>\n",
       "      <td>1527.0</td>\n",
       "      <td>17.37</td>\n",
       "      <td>1528</td>\n",
       "      <td>1288.85</td>\n",
       "      <td>8.9</td>\n",
       "      <td>1</td>\n",
       "      <td>5188</td>\n",
       "      <td>3.327</td>\n",
       "      <td>4.521</td>\n",
       "      <td>300.88522</td>\n",
       "      <td>44.081329</td>\n",
       "      <td>17.054</td>\n",
       "    </tr>\n",
       "  </tbody>\n",
       "</table>\n",
       "</div>"
      ],
      "text/plain": [
       "      koi_fpflag_nt  koi_fpflag_ss  koi_fpflag_co  koi_fpflag_ec  koi_period  \\\n",
       "619               0              1              0              0   15.068061   \n",
       "6179              1              0              0              0  364.339290   \n",
       "4321              1              0              0              0  349.588110   \n",
       "81                0              0              0              0    4.783003   \n",
       "4803              0              0              0              0    9.358925   \n",
       "\n",
       "      koi_time0bk  koi_impact  koi_duration  koi_depth  koi_prad  koi_teq  \\\n",
       "619    363.549714      0.8800        3.3011    19387.0     16.43      742   \n",
       "6179   183.317300      0.9340       13.4860     1944.0      4.40      228   \n",
       "4321   183.058700      0.1899        5.0520      373.3    134.79     1351   \n",
       "81     170.508434      0.0030        2.3350     1008.7      2.50      886   \n",
       "4803   133.482000      0.1840        3.1690     1527.0     17.37     1528   \n",
       "\n",
       "      koi_insol  koi_model_snr  koi_tce_plnt_num  koi_steff  koi_slogg  \\\n",
       "619       71.78          282.8                 1       5982      4.493   \n",
       "6179       0.64           15.9                 1       5606      4.557   \n",
       "4321     787.87           11.6                 1       3860      0.949   \n",
       "81       145.48           70.6                 1       5170      4.574   \n",
       "4803    1288.85            8.9                 1       5188      3.327   \n",
       "\n",
       "      koi_srad         ra        dec  koi_kepmag  \n",
       "619      0.960  295.47830  39.867722      15.950  \n",
       "6179     0.800  287.71542  45.436329      15.616  \n",
       "4321    74.320  295.16342  39.180187      12.989  \n",
       "81       0.807  287.09399  39.060719      15.119  \n",
       "4803     4.521  300.88522  44.081329      17.054  "
      ]
     },
     "execution_count": 8,
     "metadata": {},
     "output_type": "execute_result"
    }
   ],
   "source": [
    "from sklearn.model_selection import train_test_split\n",
    "\n",
    "X_train, X_test, y_train, y_test = train_test_split(X, y)\n",
    "X_train.head()"
   ]
  },
  {
   "cell_type": "markdown",
   "metadata": {},
   "source": [
    "# Pre-processing\n",
    "\n",
    "Scale the data using the MinMaxScaler and perform some feature selection"
   ]
  },
  {
   "cell_type": "code",
   "execution_count": 9,
   "metadata": {},
   "outputs": [],
   "source": [
    "# Scale your data\n",
    "from sklearn.preprocessing import MinMaxScaler\n",
    "\n",
    "X_scaler = MinMaxScaler().fit(X_train)\n",
    "\n",
    "X_train_scaled = X_scaler.transform(X_train)\n",
    "X_test_scaled = X_scaler.transform(X_test)"
   ]
  },
  {
   "cell_type": "markdown",
   "metadata": {},
   "source": [
    "# Train the Model\n",
    "\n"
   ]
  },
  {
   "cell_type": "code",
   "execution_count": 10,
   "metadata": {},
   "outputs": [
    {
     "data": {
      "text/plain": [
       "KNeighborsClassifier(n_neighbors=15)"
      ]
     },
     "execution_count": 10,
     "metadata": {},
     "output_type": "execute_result"
    }
   ],
   "source": [
    "from sklearn.neighbors import KNeighborsClassifier\n",
    "model = KNeighborsClassifier(n_neighbors=15)\n",
    "model.fit(X_train_scaled, y_train)\n"
   ]
  },
  {
   "cell_type": "code",
   "execution_count": 11,
   "metadata": {},
   "outputs": [
    {
     "name": "stdout",
     "output_type": "stream",
     "text": [
      "k=15 Train Acc: 0.827\n",
      "k=15 Test Acc: 0.808\n"
     ]
    }
   ],
   "source": [
    "print('k=15 Train Acc: %.3f' % model.score(X_train_scaled, y_train))\n",
    "print('k=15 Test Acc: %.3f' % model.score(X_test_scaled, y_test))"
   ]
  },
  {
   "cell_type": "markdown",
   "metadata": {},
   "source": [
    "# Hyperparameter Tuning\n",
    "\n",
    "Use `GridSearchCV` to tune the model's parameters"
   ]
  },
  {
   "cell_type": "code",
   "execution_count": 12,
   "metadata": {},
   "outputs": [],
   "source": [
    "# Create the GridSearchCV model\n",
    "from sklearn.model_selection import GridSearchCV\n",
    "param_grid = {'n_neighbors' : [1,3,5,7,9,11,13,15,17,19,21,23],\n",
    "              'weights' : ['uniform', 'distance'],\n",
    "             }\n",
    "\n",
    "grid = GridSearchCV(model, param_grid, verbose=2)"
   ]
  },
  {
   "cell_type": "code",
   "execution_count": 13,
   "metadata": {},
   "outputs": [
    {
     "name": "stdout",
     "output_type": "stream",
     "text": [
      "Fitting 5 folds for each of 24 candidates, totalling 120 fits\n",
      "[CV] n_neighbors=1, weights=uniform ..................................\n",
      "[CV] ................... n_neighbors=1, weights=uniform, total=   0.1s\n",
      "[CV] n_neighbors=1, weights=uniform ..................................\n"
     ]
    },
    {
     "name": "stderr",
     "output_type": "stream",
     "text": [
      "[Parallel(n_jobs=1)]: Using backend SequentialBackend with 1 concurrent workers.\n",
      "[Parallel(n_jobs=1)]: Done   1 out of   1 | elapsed:    0.0s remaining:    0.0s\n"
     ]
    },
    {
     "name": "stdout",
     "output_type": "stream",
     "text": [
      "[CV] ................... n_neighbors=1, weights=uniform, total=   0.1s\n",
      "[CV] n_neighbors=1, weights=uniform ..................................\n",
      "[CV] ................... n_neighbors=1, weights=uniform, total=   0.1s\n",
      "[CV] n_neighbors=1, weights=uniform ..................................\n",
      "[CV] ................... n_neighbors=1, weights=uniform, total=   0.1s\n",
      "[CV] n_neighbors=1, weights=uniform ..................................\n",
      "[CV] ................... n_neighbors=1, weights=uniform, total=   0.1s\n",
      "[CV] n_neighbors=1, weights=distance .................................\n",
      "[CV] .................. n_neighbors=1, weights=distance, total=   0.1s\n",
      "[CV] n_neighbors=1, weights=distance .................................\n",
      "[CV] .................. n_neighbors=1, weights=distance, total=   0.1s\n",
      "[CV] n_neighbors=1, weights=distance .................................\n",
      "[CV] .................. n_neighbors=1, weights=distance, total=   0.1s\n",
      "[CV] n_neighbors=1, weights=distance .................................\n",
      "[CV] .................. n_neighbors=1, weights=distance, total=   0.1s\n",
      "[CV] n_neighbors=1, weights=distance .................................\n",
      "[CV] .................. n_neighbors=1, weights=distance, total=   0.1s\n",
      "[CV] n_neighbors=3, weights=uniform ..................................\n",
      "[CV] ................... n_neighbors=3, weights=uniform, total=   0.1s\n",
      "[CV] n_neighbors=3, weights=uniform ..................................\n",
      "[CV] ................... n_neighbors=3, weights=uniform, total=   0.1s\n",
      "[CV] n_neighbors=3, weights=uniform ..................................\n",
      "[CV] ................... n_neighbors=3, weights=uniform, total=   0.1s\n",
      "[CV] n_neighbors=3, weights=uniform ..................................\n",
      "[CV] ................... n_neighbors=3, weights=uniform, total=   0.1s\n",
      "[CV] n_neighbors=3, weights=uniform ..................................\n",
      "[CV] ................... n_neighbors=3, weights=uniform, total=   0.1s\n",
      "[CV] n_neighbors=3, weights=distance .................................\n",
      "[CV] .................. n_neighbors=3, weights=distance, total=   0.1s\n",
      "[CV] n_neighbors=3, weights=distance .................................\n",
      "[CV] .................. n_neighbors=3, weights=distance, total=   0.1s\n",
      "[CV] n_neighbors=3, weights=distance .................................\n",
      "[CV] .................. n_neighbors=3, weights=distance, total=   0.1s\n",
      "[CV] n_neighbors=3, weights=distance .................................\n",
      "[CV] .................. n_neighbors=3, weights=distance, total=   0.1s\n",
      "[CV] n_neighbors=3, weights=distance .................................\n",
      "[CV] .................. n_neighbors=3, weights=distance, total=   0.1s\n",
      "[CV] n_neighbors=5, weights=uniform ..................................\n",
      "[CV] ................... n_neighbors=5, weights=uniform, total=   0.1s\n",
      "[CV] n_neighbors=5, weights=uniform ..................................\n",
      "[CV] ................... n_neighbors=5, weights=uniform, total=   0.1s\n",
      "[CV] n_neighbors=5, weights=uniform ..................................\n",
      "[CV] ................... n_neighbors=5, weights=uniform, total=   0.1s\n",
      "[CV] n_neighbors=5, weights=uniform ..................................\n",
      "[CV] ................... n_neighbors=5, weights=uniform, total=   0.1s\n",
      "[CV] n_neighbors=5, weights=uniform ..................................\n",
      "[CV] ................... n_neighbors=5, weights=uniform, total=   0.1s\n",
      "[CV] n_neighbors=5, weights=distance .................................\n",
      "[CV] .................. n_neighbors=5, weights=distance, total=   0.1s\n",
      "[CV] n_neighbors=5, weights=distance .................................\n",
      "[CV] .................. n_neighbors=5, weights=distance, total=   0.1s\n",
      "[CV] n_neighbors=5, weights=distance .................................\n",
      "[CV] .................. n_neighbors=5, weights=distance, total=   0.1s\n",
      "[CV] n_neighbors=5, weights=distance .................................\n",
      "[CV] .................. n_neighbors=5, weights=distance, total=   0.1s\n",
      "[CV] n_neighbors=5, weights=distance .................................\n",
      "[CV] .................. n_neighbors=5, weights=distance, total=   0.1s\n",
      "[CV] n_neighbors=7, weights=uniform ..................................\n",
      "[CV] ................... n_neighbors=7, weights=uniform, total=   0.1s\n",
      "[CV] n_neighbors=7, weights=uniform ..................................\n",
      "[CV] ................... n_neighbors=7, weights=uniform, total=   0.1s\n",
      "[CV] n_neighbors=7, weights=uniform ..................................\n",
      "[CV] ................... n_neighbors=7, weights=uniform, total=   0.1s\n",
      "[CV] n_neighbors=7, weights=uniform ..................................\n",
      "[CV] ................... n_neighbors=7, weights=uniform, total=   0.1s\n",
      "[CV] n_neighbors=7, weights=uniform ..................................\n",
      "[CV] ................... n_neighbors=7, weights=uniform, total=   0.1s\n",
      "[CV] n_neighbors=7, weights=distance .................................\n",
      "[CV] .................. n_neighbors=7, weights=distance, total=   0.1s\n",
      "[CV] n_neighbors=7, weights=distance .................................\n",
      "[CV] .................. n_neighbors=7, weights=distance, total=   0.1s\n",
      "[CV] n_neighbors=7, weights=distance .................................\n",
      "[CV] .................. n_neighbors=7, weights=distance, total=   0.1s\n",
      "[CV] n_neighbors=7, weights=distance .................................\n",
      "[CV] .................. n_neighbors=7, weights=distance, total=   0.1s\n",
      "[CV] n_neighbors=7, weights=distance .................................\n",
      "[CV] .................. n_neighbors=7, weights=distance, total=   0.1s\n",
      "[CV] n_neighbors=9, weights=uniform ..................................\n",
      "[CV] ................... n_neighbors=9, weights=uniform, total=   0.1s\n",
      "[CV] n_neighbors=9, weights=uniform ..................................\n",
      "[CV] ................... n_neighbors=9, weights=uniform, total=   0.1s\n",
      "[CV] n_neighbors=9, weights=uniform ..................................\n",
      "[CV] ................... n_neighbors=9, weights=uniform, total=   0.1s\n",
      "[CV] n_neighbors=9, weights=uniform ..................................\n",
      "[CV] ................... n_neighbors=9, weights=uniform, total=   0.1s\n",
      "[CV] n_neighbors=9, weights=uniform ..................................\n",
      "[CV] ................... n_neighbors=9, weights=uniform, total=   0.1s\n",
      "[CV] n_neighbors=9, weights=distance .................................\n",
      "[CV] .................. n_neighbors=9, weights=distance, total=   0.1s\n",
      "[CV] n_neighbors=9, weights=distance .................................\n",
      "[CV] .................. n_neighbors=9, weights=distance, total=   0.1s\n",
      "[CV] n_neighbors=9, weights=distance .................................\n",
      "[CV] .................. n_neighbors=9, weights=distance, total=   0.1s\n",
      "[CV] n_neighbors=9, weights=distance .................................\n",
      "[CV] .................. n_neighbors=9, weights=distance, total=   0.1s\n",
      "[CV] n_neighbors=9, weights=distance .................................\n",
      "[CV] .................. n_neighbors=9, weights=distance, total=   0.1s\n",
      "[CV] n_neighbors=11, weights=uniform .................................\n",
      "[CV] .................. n_neighbors=11, weights=uniform, total=   0.2s\n",
      "[CV] n_neighbors=11, weights=uniform .................................\n",
      "[CV] .................. n_neighbors=11, weights=uniform, total=   0.1s\n",
      "[CV] n_neighbors=11, weights=uniform .................................\n",
      "[CV] .................. n_neighbors=11, weights=uniform, total=   0.1s\n",
      "[CV] n_neighbors=11, weights=uniform .................................\n",
      "[CV] .................. n_neighbors=11, weights=uniform, total=   0.1s\n",
      "[CV] n_neighbors=11, weights=uniform .................................\n",
      "[CV] .................. n_neighbors=11, weights=uniform, total=   0.1s\n",
      "[CV] n_neighbors=11, weights=distance ................................\n",
      "[CV] ................. n_neighbors=11, weights=distance, total=   0.1s\n",
      "[CV] n_neighbors=11, weights=distance ................................\n",
      "[CV] ................. n_neighbors=11, weights=distance, total=   0.1s\n",
      "[CV] n_neighbors=11, weights=distance ................................\n",
      "[CV] ................. n_neighbors=11, weights=distance, total=   0.1s\n",
      "[CV] n_neighbors=11, weights=distance ................................\n",
      "[CV] ................. n_neighbors=11, weights=distance, total=   0.1s\n",
      "[CV] n_neighbors=11, weights=distance ................................\n",
      "[CV] ................. n_neighbors=11, weights=distance, total=   0.1s\n",
      "[CV] n_neighbors=13, weights=uniform .................................\n"
     ]
    },
    {
     "name": "stdout",
     "output_type": "stream",
     "text": [
      "[CV] .................. n_neighbors=13, weights=uniform, total=   0.1s\n",
      "[CV] n_neighbors=13, weights=uniform .................................\n",
      "[CV] .................. n_neighbors=13, weights=uniform, total=   0.1s\n",
      "[CV] n_neighbors=13, weights=uniform .................................\n",
      "[CV] .................. n_neighbors=13, weights=uniform, total=   0.1s\n",
      "[CV] n_neighbors=13, weights=uniform .................................\n",
      "[CV] .................. n_neighbors=13, weights=uniform, total=   0.1s\n",
      "[CV] n_neighbors=13, weights=uniform .................................\n",
      "[CV] .................. n_neighbors=13, weights=uniform, total=   0.1s\n",
      "[CV] n_neighbors=13, weights=distance ................................\n",
      "[CV] ................. n_neighbors=13, weights=distance, total=   0.1s\n",
      "[CV] n_neighbors=13, weights=distance ................................\n",
      "[CV] ................. n_neighbors=13, weights=distance, total=   0.1s\n",
      "[CV] n_neighbors=13, weights=distance ................................\n",
      "[CV] ................. n_neighbors=13, weights=distance, total=   0.1s\n",
      "[CV] n_neighbors=13, weights=distance ................................\n",
      "[CV] ................. n_neighbors=13, weights=distance, total=   0.1s\n",
      "[CV] n_neighbors=13, weights=distance ................................\n",
      "[CV] ................. n_neighbors=13, weights=distance, total=   0.1s\n",
      "[CV] n_neighbors=15, weights=uniform .................................\n",
      "[CV] .................. n_neighbors=15, weights=uniform, total=   0.1s\n",
      "[CV] n_neighbors=15, weights=uniform .................................\n",
      "[CV] .................. n_neighbors=15, weights=uniform, total=   0.1s\n",
      "[CV] n_neighbors=15, weights=uniform .................................\n",
      "[CV] .................. n_neighbors=15, weights=uniform, total=   0.1s\n",
      "[CV] n_neighbors=15, weights=uniform .................................\n",
      "[CV] .................. n_neighbors=15, weights=uniform, total=   0.1s\n",
      "[CV] n_neighbors=15, weights=uniform .................................\n",
      "[CV] .................. n_neighbors=15, weights=uniform, total=   0.1s\n",
      "[CV] n_neighbors=15, weights=distance ................................\n",
      "[CV] ................. n_neighbors=15, weights=distance, total=   0.1s\n",
      "[CV] n_neighbors=15, weights=distance ................................\n",
      "[CV] ................. n_neighbors=15, weights=distance, total=   0.1s\n",
      "[CV] n_neighbors=15, weights=distance ................................\n",
      "[CV] ................. n_neighbors=15, weights=distance, total=   0.1s\n",
      "[CV] n_neighbors=15, weights=distance ................................\n",
      "[CV] ................. n_neighbors=15, weights=distance, total=   0.1s\n",
      "[CV] n_neighbors=15, weights=distance ................................\n",
      "[CV] ................. n_neighbors=15, weights=distance, total=   0.1s\n",
      "[CV] n_neighbors=17, weights=uniform .................................\n",
      "[CV] .................. n_neighbors=17, weights=uniform, total=   0.1s\n",
      "[CV] n_neighbors=17, weights=uniform .................................\n",
      "[CV] .................. n_neighbors=17, weights=uniform, total=   0.1s\n",
      "[CV] n_neighbors=17, weights=uniform .................................\n",
      "[CV] .................. n_neighbors=17, weights=uniform, total=   0.1s\n",
      "[CV] n_neighbors=17, weights=uniform .................................\n",
      "[CV] .................. n_neighbors=17, weights=uniform, total=   0.1s\n",
      "[CV] n_neighbors=17, weights=uniform .................................\n",
      "[CV] .................. n_neighbors=17, weights=uniform, total=   0.1s\n",
      "[CV] n_neighbors=17, weights=distance ................................\n",
      "[CV] ................. n_neighbors=17, weights=distance, total=   0.1s\n",
      "[CV] n_neighbors=17, weights=distance ................................\n",
      "[CV] ................. n_neighbors=17, weights=distance, total=   0.1s\n",
      "[CV] n_neighbors=17, weights=distance ................................\n",
      "[CV] ................. n_neighbors=17, weights=distance, total=   0.1s\n",
      "[CV] n_neighbors=17, weights=distance ................................\n",
      "[CV] ................. n_neighbors=17, weights=distance, total=   0.1s\n",
      "[CV] n_neighbors=17, weights=distance ................................\n",
      "[CV] ................. n_neighbors=17, weights=distance, total=   0.1s\n",
      "[CV] n_neighbors=19, weights=uniform .................................\n",
      "[CV] .................. n_neighbors=19, weights=uniform, total=   0.1s\n",
      "[CV] n_neighbors=19, weights=uniform .................................\n",
      "[CV] .................. n_neighbors=19, weights=uniform, total=   0.1s\n",
      "[CV] n_neighbors=19, weights=uniform .................................\n",
      "[CV] .................. n_neighbors=19, weights=uniform, total=   0.1s\n",
      "[CV] n_neighbors=19, weights=uniform .................................\n",
      "[CV] .................. n_neighbors=19, weights=uniform, total=   0.1s\n",
      "[CV] n_neighbors=19, weights=uniform .................................\n",
      "[CV] .................. n_neighbors=19, weights=uniform, total=   0.1s\n",
      "[CV] n_neighbors=19, weights=distance ................................\n",
      "[CV] ................. n_neighbors=19, weights=distance, total=   0.1s\n",
      "[CV] n_neighbors=19, weights=distance ................................\n",
      "[CV] ................. n_neighbors=19, weights=distance, total=   0.1s\n",
      "[CV] n_neighbors=19, weights=distance ................................\n",
      "[CV] ................. n_neighbors=19, weights=distance, total=   0.1s\n",
      "[CV] n_neighbors=19, weights=distance ................................\n",
      "[CV] ................. n_neighbors=19, weights=distance, total=   0.1s\n",
      "[CV] n_neighbors=19, weights=distance ................................\n",
      "[CV] ................. n_neighbors=19, weights=distance, total=   0.1s\n",
      "[CV] n_neighbors=21, weights=uniform .................................\n",
      "[CV] .................. n_neighbors=21, weights=uniform, total=   0.1s\n",
      "[CV] n_neighbors=21, weights=uniform .................................\n",
      "[CV] .................. n_neighbors=21, weights=uniform, total=   0.1s\n",
      "[CV] n_neighbors=21, weights=uniform .................................\n",
      "[CV] .................. n_neighbors=21, weights=uniform, total=   0.1s\n",
      "[CV] n_neighbors=21, weights=uniform .................................\n",
      "[CV] .................. n_neighbors=21, weights=uniform, total=   0.1s\n",
      "[CV] n_neighbors=21, weights=uniform .................................\n",
      "[CV] .................. n_neighbors=21, weights=uniform, total=   0.1s\n",
      "[CV] n_neighbors=21, weights=distance ................................\n",
      "[CV] ................. n_neighbors=21, weights=distance, total=   0.1s\n",
      "[CV] n_neighbors=21, weights=distance ................................\n",
      "[CV] ................. n_neighbors=21, weights=distance, total=   0.1s\n",
      "[CV] n_neighbors=21, weights=distance ................................\n",
      "[CV] ................. n_neighbors=21, weights=distance, total=   0.1s\n",
      "[CV] n_neighbors=21, weights=distance ................................\n",
      "[CV] ................. n_neighbors=21, weights=distance, total=   0.1s\n",
      "[CV] n_neighbors=21, weights=distance ................................\n",
      "[CV] ................. n_neighbors=21, weights=distance, total=   0.1s\n",
      "[CV] n_neighbors=23, weights=uniform .................................\n",
      "[CV] .................. n_neighbors=23, weights=uniform, total=   0.1s\n",
      "[CV] n_neighbors=23, weights=uniform .................................\n",
      "[CV] .................. n_neighbors=23, weights=uniform, total=   0.1s\n",
      "[CV] n_neighbors=23, weights=uniform .................................\n",
      "[CV] .................. n_neighbors=23, weights=uniform, total=   0.1s\n",
      "[CV] n_neighbors=23, weights=uniform .................................\n",
      "[CV] .................. n_neighbors=23, weights=uniform, total=   0.1s\n",
      "[CV] n_neighbors=23, weights=uniform .................................\n",
      "[CV] .................. n_neighbors=23, weights=uniform, total=   0.1s\n",
      "[CV] n_neighbors=23, weights=distance ................................\n",
      "[CV] ................. n_neighbors=23, weights=distance, total=   0.1s\n",
      "[CV] n_neighbors=23, weights=distance ................................\n",
      "[CV] ................. n_neighbors=23, weights=distance, total=   0.1s\n",
      "[CV] n_neighbors=23, weights=distance ................................\n",
      "[CV] ................. n_neighbors=23, weights=distance, total=   0.1s\n",
      "[CV] n_neighbors=23, weights=distance ................................\n"
     ]
    },
    {
     "name": "stdout",
     "output_type": "stream",
     "text": [
      "[CV] ................. n_neighbors=23, weights=distance, total=   0.1s\n",
      "[CV] n_neighbors=23, weights=distance ................................\n",
      "[CV] ................. n_neighbors=23, weights=distance, total=   0.1s\n"
     ]
    },
    {
     "name": "stderr",
     "output_type": "stream",
     "text": [
      "[Parallel(n_jobs=1)]: Done 120 out of 120 | elapsed:   14.0s finished\n"
     ]
    },
    {
     "data": {
      "text/plain": [
       "GridSearchCV(estimator=KNeighborsClassifier(n_neighbors=15),\n",
       "             param_grid={'n_neighbors': [1, 3, 5, 7, 9, 11, 13, 15, 17, 19, 21,\n",
       "                                         23],\n",
       "                         'weights': ['uniform', 'distance']},\n",
       "             verbose=2)"
      ]
     },
     "execution_count": 13,
     "metadata": {},
     "output_type": "execute_result"
    }
   ],
   "source": [
    "# Train the model with GridSearch\n",
    "grid.fit(X_train_scaled, y_train)"
   ]
  },
  {
   "cell_type": "code",
   "execution_count": 14,
   "metadata": {},
   "outputs": [
    {
     "name": "stdout",
     "output_type": "stream",
     "text": [
      "{'n_neighbors': 7, 'weights': 'distance'}\n",
      "0.7987798266615244\n"
     ]
    }
   ],
   "source": [
    "print(grid.best_params_)\n",
    "print(grid.best_score_)"
   ]
  },
  {
   "cell_type": "code",
   "execution_count": 16,
   "metadata": {},
   "outputs": [
    {
     "data": {
      "text/plain": [
       "KNeighborsClassifier(n_neighbors=7, weights='distance')"
      ]
     },
     "execution_count": 16,
     "metadata": {},
     "output_type": "execute_result"
    }
   ],
   "source": [
    "model_grid = KNeighborsClassifier(n_neighbors=7, weights='distance')\n",
    "model_grid.fit(X_train_scaled, y_train)"
   ]
  },
  {
   "cell_type": "code",
   "execution_count": 18,
   "metadata": {},
   "outputs": [
    {
     "name": "stdout",
     "output_type": "stream",
     "text": [
      "k=7 Train Acc: 1.000\n",
      "k=7 Test Acc: 0.795\n"
     ]
    }
   ],
   "source": [
    "print('k=7 Train Acc: %.3f' % model_grid.score(X_train_scaled, y_train))\n",
    "print('k=7 Test Acc: %.3f' % model_grid.score(X_test_scaled, y_test))"
   ]
  },
  {
   "cell_type": "code",
   "execution_count": 19,
   "metadata": {},
   "outputs": [
    {
     "name": "stdout",
     "output_type": "stream",
     "text": [
      "k: 1, Train/Test Score: 1.000/0.783\n",
      "k: 3, Train/Test Score: 0.891/0.789\n",
      "k: 5, Train/Test Score: 0.858/0.796\n",
      "k: 7, Train/Test Score: 0.850/0.796\n",
      "k: 9, Train/Test Score: 0.842/0.802\n",
      "k: 11, Train/Test Score: 0.834/0.803\n",
      "k: 13, Train/Test Score: 0.831/0.809\n",
      "k: 15, Train/Test Score: 0.827/0.808\n",
      "k: 17, Train/Test Score: 0.828/0.807\n",
      "k: 19, Train/Test Score: 0.825/0.809\n"
     ]
    }
   ],
   "source": [
    "train_scores = []\n",
    "test_scores = []\n",
    "for k in range(1, 20, 2):\n",
    "    knn = KNeighborsClassifier(n_neighbors=k)\n",
    "    knn.fit(X_train_scaled, y_train)\n",
    "    train_score = knn.score(X_train_scaled, y_train)\n",
    "    test_score = knn.score(X_test_scaled, y_test)\n",
    "    train_scores.append(train_score)\n",
    "    test_scores.append(test_score)\n",
    "    print(f\"k: {k}, Train/Test Score: {train_score:.3f}/{test_score:.3f}\")"
   ]
  },
  {
   "cell_type": "code",
   "execution_count": 20,
   "metadata": {},
   "outputs": [
    {
     "data": {
      "text/plain": [
       "KNeighborsClassifier(n_neighbors=15)"
      ]
     },
     "execution_count": 20,
     "metadata": {},
     "output_type": "execute_result"
    }
   ],
   "source": [
    "#Going to use k=15\n",
    "model = KNeighborsClassifier(n_neighbors=15)\n",
    "model.fit(X_train_scaled, y_train)"
   ]
  },
  {
   "cell_type": "code",
   "execution_count": 21,
   "metadata": {},
   "outputs": [],
   "source": [
    "param_grid = {'weights' : ['uniform', 'distance'],\n",
    "              'algorithm': ['ball_tree', 'kd_tree', 'brute']\n",
    "             }\n",
    "grid = GridSearchCV(model, param_grid, verbose=2)"
   ]
  },
  {
   "cell_type": "code",
   "execution_count": 22,
   "metadata": {},
   "outputs": [
    {
     "name": "stdout",
     "output_type": "stream",
     "text": [
      "Fitting 5 folds for each of 6 candidates, totalling 30 fits\n",
      "[CV] algorithm=ball_tree, weights=uniform ............................\n",
      "[CV] ............. algorithm=ball_tree, weights=uniform, total=   0.1s\n",
      "[CV] algorithm=ball_tree, weights=uniform ............................\n"
     ]
    },
    {
     "name": "stderr",
     "output_type": "stream",
     "text": [
      "[Parallel(n_jobs=1)]: Using backend SequentialBackend with 1 concurrent workers.\n",
      "[Parallel(n_jobs=1)]: Done   1 out of   1 | elapsed:    0.0s remaining:    0.0s\n"
     ]
    },
    {
     "name": "stdout",
     "output_type": "stream",
     "text": [
      "[CV] ............. algorithm=ball_tree, weights=uniform, total=   0.1s\n",
      "[CV] algorithm=ball_tree, weights=uniform ............................\n",
      "[CV] ............. algorithm=ball_tree, weights=uniform, total=   0.1s\n",
      "[CV] algorithm=ball_tree, weights=uniform ............................\n",
      "[CV] ............. algorithm=ball_tree, weights=uniform, total=   0.1s\n",
      "[CV] algorithm=ball_tree, weights=uniform ............................\n",
      "[CV] ............. algorithm=ball_tree, weights=uniform, total=   0.1s\n",
      "[CV] algorithm=ball_tree, weights=distance ...........................\n",
      "[CV] ............ algorithm=ball_tree, weights=distance, total=   0.1s\n",
      "[CV] algorithm=ball_tree, weights=distance ...........................\n",
      "[CV] ............ algorithm=ball_tree, weights=distance, total=   0.1s\n",
      "[CV] algorithm=ball_tree, weights=distance ...........................\n",
      "[CV] ............ algorithm=ball_tree, weights=distance, total=   0.1s\n",
      "[CV] algorithm=ball_tree, weights=distance ...........................\n",
      "[CV] ............ algorithm=ball_tree, weights=distance, total=   0.1s\n",
      "[CV] algorithm=ball_tree, weights=distance ...........................\n",
      "[CV] ............ algorithm=ball_tree, weights=distance, total=   0.1s\n",
      "[CV] algorithm=kd_tree, weights=uniform ..............................\n",
      "[CV] ............... algorithm=kd_tree, weights=uniform, total=   0.1s\n",
      "[CV] algorithm=kd_tree, weights=uniform ..............................\n",
      "[CV] ............... algorithm=kd_tree, weights=uniform, total=   0.1s\n",
      "[CV] algorithm=kd_tree, weights=uniform ..............................\n",
      "[CV] ............... algorithm=kd_tree, weights=uniform, total=   0.1s\n",
      "[CV] algorithm=kd_tree, weights=uniform ..............................\n",
      "[CV] ............... algorithm=kd_tree, weights=uniform, total=   0.1s\n",
      "[CV] algorithm=kd_tree, weights=uniform ..............................\n",
      "[CV] ............... algorithm=kd_tree, weights=uniform, total=   0.1s\n",
      "[CV] algorithm=kd_tree, weights=distance .............................\n",
      "[CV] .............. algorithm=kd_tree, weights=distance, total=   0.1s\n",
      "[CV] algorithm=kd_tree, weights=distance .............................\n",
      "[CV] .............. algorithm=kd_tree, weights=distance, total=   0.1s\n",
      "[CV] algorithm=kd_tree, weights=distance .............................\n",
      "[CV] .............. algorithm=kd_tree, weights=distance, total=   0.1s\n",
      "[CV] algorithm=kd_tree, weights=distance .............................\n",
      "[CV] .............. algorithm=kd_tree, weights=distance, total=   0.1s\n",
      "[CV] algorithm=kd_tree, weights=distance .............................\n",
      "[CV] .............. algorithm=kd_tree, weights=distance, total=   0.1s\n",
      "[CV] algorithm=brute, weights=uniform ................................\n",
      "[CV] ................. algorithm=brute, weights=uniform, total=   0.2s\n",
      "[CV] algorithm=brute, weights=uniform ................................\n",
      "[CV] ................. algorithm=brute, weights=uniform, total=   0.1s\n",
      "[CV] algorithm=brute, weights=uniform ................................\n",
      "[CV] ................. algorithm=brute, weights=uniform, total=   0.1s\n",
      "[CV] algorithm=brute, weights=uniform ................................\n",
      "[CV] ................. algorithm=brute, weights=uniform, total=   0.2s\n",
      "[CV] algorithm=brute, weights=uniform ................................\n",
      "[CV] ................. algorithm=brute, weights=uniform, total=   0.1s\n",
      "[CV] algorithm=brute, weights=distance ...............................\n",
      "[CV] ................ algorithm=brute, weights=distance, total=   0.1s\n",
      "[CV] algorithm=brute, weights=distance ...............................\n",
      "[CV] ................ algorithm=brute, weights=distance, total=   0.1s\n",
      "[CV] algorithm=brute, weights=distance ...............................\n",
      "[CV] ................ algorithm=brute, weights=distance, total=   0.1s\n",
      "[CV] algorithm=brute, weights=distance ...............................\n",
      "[CV] ................ algorithm=brute, weights=distance, total=   0.1s\n",
      "[CV] algorithm=brute, weights=distance ...............................\n",
      "[CV] ................ algorithm=brute, weights=distance, total=   0.1s\n"
     ]
    },
    {
     "name": "stderr",
     "output_type": "stream",
     "text": [
      "[Parallel(n_jobs=1)]: Done  30 out of  30 | elapsed:    3.6s finished\n"
     ]
    },
    {
     "data": {
      "text/plain": [
       "GridSearchCV(estimator=KNeighborsClassifier(n_neighbors=15),\n",
       "             param_grid={'algorithm': ['ball_tree', 'kd_tree', 'brute'],\n",
       "                         'weights': ['uniform', 'distance']},\n",
       "             verbose=2)"
      ]
     },
     "execution_count": 22,
     "metadata": {},
     "output_type": "execute_result"
    }
   ],
   "source": [
    "# Train the model with GridSearch\n",
    "grid.fit(X_train_scaled, y_train)"
   ]
  },
  {
   "cell_type": "code",
   "execution_count": 23,
   "metadata": {},
   "outputs": [
    {
     "name": "stdout",
     "output_type": "stream",
     "text": [
      "{'algorithm': 'ball_tree', 'weights': 'uniform'}\n",
      "0.7985882592654583\n"
     ]
    }
   ],
   "source": [
    "print(grid.best_params_)\n",
    "print(grid.best_score_)"
   ]
  },
  {
   "cell_type": "code",
   "execution_count": 24,
   "metadata": {},
   "outputs": [
    {
     "data": {
      "text/plain": [
       "KNeighborsClassifier(algorithm='ball_tree', n_neighbors=15)"
      ]
     },
     "execution_count": 24,
     "metadata": {},
     "output_type": "execute_result"
    }
   ],
   "source": [
    "model_grid = KNeighborsClassifier(n_neighbors=15, weights='uniform', algorithm='ball_tree')\n",
    "model_grid.fit(X_train_scaled, y_train)"
   ]
  },
  {
   "cell_type": "code",
   "execution_count": 25,
   "metadata": {},
   "outputs": [
    {
     "name": "stdout",
     "output_type": "stream",
     "text": [
      "Final Train Acc: 0.827\n",
      "Final Test Acc: 0.808\n"
     ]
    }
   ],
   "source": [
    "print('Final Train Acc: %.3f' % model_grid.score(X_train_scaled, y_train))\n",
    "print('Final Test Acc: %.3f' % model_grid.score(X_test_scaled, y_test))"
   ]
  },
  {
   "cell_type": "markdown",
   "metadata": {},
   "source": [
    "# Save the Model"
   ]
  },
  {
   "cell_type": "code",
   "execution_count": 15,
   "metadata": {},
   "outputs": [
    {
     "data": {
      "text/plain": [
       "['KNN.sav']"
      ]
     },
     "execution_count": 15,
     "metadata": {},
     "output_type": "execute_result"
    }
   ],
   "source": [
    "# save your model by updating \"your_name\" with your name\n",
    "# and \"your_model\" with your model variable\n",
    "# be sure to turn this in to BCS\n",
    "# if joblib fails to import, try running the command to install in terminal/git-bash\n",
    "import joblib\n",
    "filename = 'KNN.sav'\n",
    "joblib.dump(model, filename)"
   ]
  },
  {
   "cell_type": "code",
   "execution_count": null,
   "metadata": {},
   "outputs": [],
   "source": []
  }
 ],
 "metadata": {
  "kernel_info": {
   "name": "dev"
  },
  "kernelspec": {
   "display_name": "Python 3",
   "language": "python",
   "name": "python3"
  },
  "language_info": {
   "codemirror_mode": {
    "name": "ipython",
    "version": 3
   },
   "file_extension": ".py",
   "mimetype": "text/x-python",
   "name": "python",
   "nbconvert_exporter": "python",
   "pygments_lexer": "ipython3",
   "version": "3.8.5"
  },
  "nteract": {
   "version": "0.12.3"
  }
 },
 "nbformat": 4,
 "nbformat_minor": 2
}
