{
 "cells": [
  {
   "cell_type": "code",
   "execution_count": 1,
   "metadata": {},
   "outputs": [
    {
     "name": "stdout",
     "output_type": "stream",
     "text": [
      "Requirement already up-to-date: sklearn in c:\\users\\jordanroessle\\anaconda3\\lib\\site-packages (0.0)\n",
      "Requirement already satisfied, skipping upgrade: scikit-learn in c:\\users\\jordanroessle\\anaconda3\\lib\\site-packages (from sklearn) (0.23.2)\n",
      "Requirement already satisfied, skipping upgrade: scipy>=0.19.1 in c:\\users\\jordanroessle\\anaconda3\\lib\\site-packages (from scikit-learn->sklearn) (1.5.2)\n",
      "Requirement already satisfied, skipping upgrade: threadpoolctl>=2.0.0 in c:\\users\\jordanroessle\\anaconda3\\lib\\site-packages (from scikit-learn->sklearn) (2.1.0)\n",
      "Requirement already satisfied, skipping upgrade: joblib>=0.11 in c:\\users\\jordanroessle\\anaconda3\\lib\\site-packages (from scikit-learn->sklearn) (0.17.0)\n",
      "Requirement already satisfied, skipping upgrade: numpy>=1.13.3 in c:\\users\\jordanroessle\\anaconda3\\lib\\site-packages (from scikit-learn->sklearn) (1.19.2)\n"
     ]
    }
   ],
   "source": [
    "# Update sklearn to prevent version mismatches\n",
    "!pip install sklearn --upgrade"
   ]
  },
  {
   "cell_type": "code",
   "execution_count": 2,
   "metadata": {},
   "outputs": [
    {
     "name": "stdout",
     "output_type": "stream",
     "text": [
      "Requirement already satisfied: joblib in c:\\users\\jordanroessle\\anaconda3\\lib\\site-packages (0.17.0)\n"
     ]
    }
   ],
   "source": [
    "# install joblib. This will be used to save your model. \n",
    "# Restart your kernel after installing \n",
    "!pip install joblib"
   ]
  },
  {
   "cell_type": "code",
   "execution_count": 3,
   "metadata": {},
   "outputs": [],
   "source": [
    "import pandas as pd"
   ]
  },
  {
   "cell_type": "markdown",
   "metadata": {},
   "source": [
    "# Read the CSV and Perform Basic Data Cleaning"
   ]
  },
  {
   "cell_type": "code",
   "execution_count": 4,
   "metadata": {},
   "outputs": [
    {
     "data": {
      "text/html": [
       "<div>\n",
       "<style scoped>\n",
       "    .dataframe tbody tr th:only-of-type {\n",
       "        vertical-align: middle;\n",
       "    }\n",
       "\n",
       "    .dataframe tbody tr th {\n",
       "        vertical-align: top;\n",
       "    }\n",
       "\n",
       "    .dataframe thead th {\n",
       "        text-align: right;\n",
       "    }\n",
       "</style>\n",
       "<table border=\"1\" class=\"dataframe\">\n",
       "  <thead>\n",
       "    <tr style=\"text-align: right;\">\n",
       "      <th></th>\n",
       "      <th>koi_disposition</th>\n",
       "      <th>koi_fpflag_nt</th>\n",
       "      <th>koi_fpflag_ss</th>\n",
       "      <th>koi_fpflag_co</th>\n",
       "      <th>koi_fpflag_ec</th>\n",
       "      <th>koi_period</th>\n",
       "      <th>koi_period_err1</th>\n",
       "      <th>koi_period_err2</th>\n",
       "      <th>koi_time0bk</th>\n",
       "      <th>koi_time0bk_err1</th>\n",
       "      <th>...</th>\n",
       "      <th>koi_steff_err2</th>\n",
       "      <th>koi_slogg</th>\n",
       "      <th>koi_slogg_err1</th>\n",
       "      <th>koi_slogg_err2</th>\n",
       "      <th>koi_srad</th>\n",
       "      <th>koi_srad_err1</th>\n",
       "      <th>koi_srad_err2</th>\n",
       "      <th>ra</th>\n",
       "      <th>dec</th>\n",
       "      <th>koi_kepmag</th>\n",
       "    </tr>\n",
       "  </thead>\n",
       "  <tbody>\n",
       "    <tr>\n",
       "      <th>0</th>\n",
       "      <td>CONFIRMED</td>\n",
       "      <td>0</td>\n",
       "      <td>0</td>\n",
       "      <td>0</td>\n",
       "      <td>0</td>\n",
       "      <td>54.418383</td>\n",
       "      <td>2.479000e-04</td>\n",
       "      <td>-2.479000e-04</td>\n",
       "      <td>162.513840</td>\n",
       "      <td>0.003520</td>\n",
       "      <td>...</td>\n",
       "      <td>-81</td>\n",
       "      <td>4.467</td>\n",
       "      <td>0.064</td>\n",
       "      <td>-0.096</td>\n",
       "      <td>0.927</td>\n",
       "      <td>0.105</td>\n",
       "      <td>-0.061</td>\n",
       "      <td>291.93423</td>\n",
       "      <td>48.141651</td>\n",
       "      <td>15.347</td>\n",
       "    </tr>\n",
       "    <tr>\n",
       "      <th>1</th>\n",
       "      <td>FALSE POSITIVE</td>\n",
       "      <td>0</td>\n",
       "      <td>1</td>\n",
       "      <td>0</td>\n",
       "      <td>0</td>\n",
       "      <td>19.899140</td>\n",
       "      <td>1.490000e-05</td>\n",
       "      <td>-1.490000e-05</td>\n",
       "      <td>175.850252</td>\n",
       "      <td>0.000581</td>\n",
       "      <td>...</td>\n",
       "      <td>-176</td>\n",
       "      <td>4.544</td>\n",
       "      <td>0.044</td>\n",
       "      <td>-0.176</td>\n",
       "      <td>0.868</td>\n",
       "      <td>0.233</td>\n",
       "      <td>-0.078</td>\n",
       "      <td>297.00482</td>\n",
       "      <td>48.134129</td>\n",
       "      <td>15.436</td>\n",
       "    </tr>\n",
       "    <tr>\n",
       "      <th>2</th>\n",
       "      <td>FALSE POSITIVE</td>\n",
       "      <td>0</td>\n",
       "      <td>1</td>\n",
       "      <td>0</td>\n",
       "      <td>0</td>\n",
       "      <td>1.736952</td>\n",
       "      <td>2.630000e-07</td>\n",
       "      <td>-2.630000e-07</td>\n",
       "      <td>170.307565</td>\n",
       "      <td>0.000115</td>\n",
       "      <td>...</td>\n",
       "      <td>-174</td>\n",
       "      <td>4.564</td>\n",
       "      <td>0.053</td>\n",
       "      <td>-0.168</td>\n",
       "      <td>0.791</td>\n",
       "      <td>0.201</td>\n",
       "      <td>-0.067</td>\n",
       "      <td>285.53461</td>\n",
       "      <td>48.285210</td>\n",
       "      <td>15.597</td>\n",
       "    </tr>\n",
       "    <tr>\n",
       "      <th>3</th>\n",
       "      <td>CONFIRMED</td>\n",
       "      <td>0</td>\n",
       "      <td>0</td>\n",
       "      <td>0</td>\n",
       "      <td>0</td>\n",
       "      <td>2.525592</td>\n",
       "      <td>3.760000e-06</td>\n",
       "      <td>-3.760000e-06</td>\n",
       "      <td>171.595550</td>\n",
       "      <td>0.001130</td>\n",
       "      <td>...</td>\n",
       "      <td>-211</td>\n",
       "      <td>4.438</td>\n",
       "      <td>0.070</td>\n",
       "      <td>-0.210</td>\n",
       "      <td>1.046</td>\n",
       "      <td>0.334</td>\n",
       "      <td>-0.133</td>\n",
       "      <td>288.75488</td>\n",
       "      <td>48.226200</td>\n",
       "      <td>15.509</td>\n",
       "    </tr>\n",
       "    <tr>\n",
       "      <th>4</th>\n",
       "      <td>CONFIRMED</td>\n",
       "      <td>0</td>\n",
       "      <td>0</td>\n",
       "      <td>0</td>\n",
       "      <td>0</td>\n",
       "      <td>4.134435</td>\n",
       "      <td>1.050000e-05</td>\n",
       "      <td>-1.050000e-05</td>\n",
       "      <td>172.979370</td>\n",
       "      <td>0.001900</td>\n",
       "      <td>...</td>\n",
       "      <td>-232</td>\n",
       "      <td>4.486</td>\n",
       "      <td>0.054</td>\n",
       "      <td>-0.229</td>\n",
       "      <td>0.972</td>\n",
       "      <td>0.315</td>\n",
       "      <td>-0.105</td>\n",
       "      <td>296.28613</td>\n",
       "      <td>48.224670</td>\n",
       "      <td>15.714</td>\n",
       "    </tr>\n",
       "  </tbody>\n",
       "</table>\n",
       "<p>5 rows × 41 columns</p>\n",
       "</div>"
      ],
      "text/plain": [
       "  koi_disposition  koi_fpflag_nt  koi_fpflag_ss  koi_fpflag_co  koi_fpflag_ec  \\\n",
       "0       CONFIRMED              0              0              0              0   \n",
       "1  FALSE POSITIVE              0              1              0              0   \n",
       "2  FALSE POSITIVE              0              1              0              0   \n",
       "3       CONFIRMED              0              0              0              0   \n",
       "4       CONFIRMED              0              0              0              0   \n",
       "\n",
       "   koi_period  koi_period_err1  koi_period_err2  koi_time0bk  \\\n",
       "0   54.418383     2.479000e-04    -2.479000e-04   162.513840   \n",
       "1   19.899140     1.490000e-05    -1.490000e-05   175.850252   \n",
       "2    1.736952     2.630000e-07    -2.630000e-07   170.307565   \n",
       "3    2.525592     3.760000e-06    -3.760000e-06   171.595550   \n",
       "4    4.134435     1.050000e-05    -1.050000e-05   172.979370   \n",
       "\n",
       "   koi_time0bk_err1  ...  koi_steff_err2  koi_slogg  koi_slogg_err1  \\\n",
       "0          0.003520  ...             -81      4.467           0.064   \n",
       "1          0.000581  ...            -176      4.544           0.044   \n",
       "2          0.000115  ...            -174      4.564           0.053   \n",
       "3          0.001130  ...            -211      4.438           0.070   \n",
       "4          0.001900  ...            -232      4.486           0.054   \n",
       "\n",
       "   koi_slogg_err2  koi_srad  koi_srad_err1  koi_srad_err2         ra  \\\n",
       "0          -0.096     0.927          0.105         -0.061  291.93423   \n",
       "1          -0.176     0.868          0.233         -0.078  297.00482   \n",
       "2          -0.168     0.791          0.201         -0.067  285.53461   \n",
       "3          -0.210     1.046          0.334         -0.133  288.75488   \n",
       "4          -0.229     0.972          0.315         -0.105  296.28613   \n",
       "\n",
       "         dec  koi_kepmag  \n",
       "0  48.141651      15.347  \n",
       "1  48.134129      15.436  \n",
       "2  48.285210      15.597  \n",
       "3  48.226200      15.509  \n",
       "4  48.224670      15.714  \n",
       "\n",
       "[5 rows x 41 columns]"
      ]
     },
     "execution_count": 4,
     "metadata": {},
     "output_type": "execute_result"
    }
   ],
   "source": [
    "df = pd.read_csv(\"exoplanet_data.csv\")\n",
    "# Drop the null columns where all values are null\n",
    "df = df.dropna(axis='columns', how='all')\n",
    "# Drop the null rows\n",
    "df = df.dropna()\n",
    "df.head()"
   ]
  },
  {
   "cell_type": "markdown",
   "metadata": {},
   "source": [
    "# Select your features (columns)"
   ]
  },
  {
   "cell_type": "code",
   "execution_count": 5,
   "metadata": {},
   "outputs": [
    {
     "data": {
      "text/plain": [
       "Index(['koi_disposition', 'koi_fpflag_nt', 'koi_fpflag_ss', 'koi_fpflag_co',\n",
       "       'koi_fpflag_ec', 'koi_period', 'koi_period_err1', 'koi_period_err2',\n",
       "       'koi_time0bk', 'koi_time0bk_err1', 'koi_time0bk_err2', 'koi_impact',\n",
       "       'koi_impact_err1', 'koi_impact_err2', 'koi_duration',\n",
       "       'koi_duration_err1', 'koi_duration_err2', 'koi_depth', 'koi_depth_err1',\n",
       "       'koi_depth_err2', 'koi_prad', 'koi_prad_err1', 'koi_prad_err2',\n",
       "       'koi_teq', 'koi_insol', 'koi_insol_err1', 'koi_insol_err2',\n",
       "       'koi_model_snr', 'koi_tce_plnt_num', 'koi_steff', 'koi_steff_err1',\n",
       "       'koi_steff_err2', 'koi_slogg', 'koi_slogg_err1', 'koi_slogg_err2',\n",
       "       'koi_srad', 'koi_srad_err1', 'koi_srad_err2', 'ra', 'dec',\n",
       "       'koi_kepmag'],\n",
       "      dtype='object')"
      ]
     },
     "execution_count": 5,
     "metadata": {},
     "output_type": "execute_result"
    }
   ],
   "source": [
    "df.columns"
   ]
  },
  {
   "cell_type": "code",
   "execution_count": 6,
   "metadata": {},
   "outputs": [],
   "source": [
    "# Set features. This will also be used as your x values.\n",
    "selected_features = df[['koi_fpflag_nt', \n",
    "                        'koi_fpflag_ss', \n",
    "                        'koi_fpflag_co', \n",
    "                        'koi_fpflag_ec', \n",
    "                        'koi_period',\n",
    "                       'koi_time0bk',\n",
    "                       'koi_impact',\n",
    "                       'koi_duration',\n",
    "                       'koi_depth',\n",
    "                       'koi_prad',\n",
    "                       'koi_teq',\n",
    "                       'koi_insol',\n",
    "                       'koi_model_snr',\n",
    "                       'koi_tce_plnt_num',\n",
    "                       'koi_steff',\n",
    "                       'koi_slogg',\n",
    "                       'koi_srad',\n",
    "                       'ra',\n",
    "                       'dec',\n",
    "                       'koi_kepmag']]"
   ]
  },
  {
   "cell_type": "markdown",
   "metadata": {},
   "source": [
    "# Create a Train Test Split\n",
    "\n",
    "Use `koi_disposition` for the y values"
   ]
  },
  {
   "cell_type": "code",
   "execution_count": 7,
   "metadata": {},
   "outputs": [
    {
     "name": "stdout",
     "output_type": "stream",
     "text": [
      "(6991, 20) (6991,)\n"
     ]
    }
   ],
   "source": [
    "X = selected_features\n",
    "y = df[\"koi_disposition\"]\n",
    "\n",
    "print(X.shape, y.shape)"
   ]
  },
  {
   "cell_type": "code",
   "execution_count": 8,
   "metadata": {},
   "outputs": [
    {
     "data": {
      "text/html": [
       "<div>\n",
       "<style scoped>\n",
       "    .dataframe tbody tr th:only-of-type {\n",
       "        vertical-align: middle;\n",
       "    }\n",
       "\n",
       "    .dataframe tbody tr th {\n",
       "        vertical-align: top;\n",
       "    }\n",
       "\n",
       "    .dataframe thead th {\n",
       "        text-align: right;\n",
       "    }\n",
       "</style>\n",
       "<table border=\"1\" class=\"dataframe\">\n",
       "  <thead>\n",
       "    <tr style=\"text-align: right;\">\n",
       "      <th></th>\n",
       "      <th>koi_fpflag_nt</th>\n",
       "      <th>koi_fpflag_ss</th>\n",
       "      <th>koi_fpflag_co</th>\n",
       "      <th>koi_fpflag_ec</th>\n",
       "      <th>koi_period</th>\n",
       "      <th>koi_time0bk</th>\n",
       "      <th>koi_impact</th>\n",
       "      <th>koi_duration</th>\n",
       "      <th>koi_depth</th>\n",
       "      <th>koi_prad</th>\n",
       "      <th>koi_teq</th>\n",
       "      <th>koi_insol</th>\n",
       "      <th>koi_model_snr</th>\n",
       "      <th>koi_tce_plnt_num</th>\n",
       "      <th>koi_steff</th>\n",
       "      <th>koi_slogg</th>\n",
       "      <th>koi_srad</th>\n",
       "      <th>ra</th>\n",
       "      <th>dec</th>\n",
       "      <th>koi_kepmag</th>\n",
       "    </tr>\n",
       "  </thead>\n",
       "  <tbody>\n",
       "    <tr>\n",
       "      <th>1793</th>\n",
       "      <td>0</td>\n",
       "      <td>0</td>\n",
       "      <td>0</td>\n",
       "      <td>0</td>\n",
       "      <td>3.784751</td>\n",
       "      <td>133.507850</td>\n",
       "      <td>0.0210</td>\n",
       "      <td>2.92400</td>\n",
       "      <td>33.5</td>\n",
       "      <td>0.70</td>\n",
       "      <td>1311</td>\n",
       "      <td>699.15</td>\n",
       "      <td>12.2</td>\n",
       "      <td>1</td>\n",
       "      <td>6017</td>\n",
       "      <td>4.326</td>\n",
       "      <td>1.206</td>\n",
       "      <td>292.33755</td>\n",
       "      <td>47.664200</td>\n",
       "      <td>12.581</td>\n",
       "    </tr>\n",
       "    <tr>\n",
       "      <th>236</th>\n",
       "      <td>0</td>\n",
       "      <td>0</td>\n",
       "      <td>0</td>\n",
       "      <td>0</td>\n",
       "      <td>42.634278</td>\n",
       "      <td>141.169540</td>\n",
       "      <td>0.1420</td>\n",
       "      <td>6.19980</td>\n",
       "      <td>1719.3</td>\n",
       "      <td>5.22</td>\n",
       "      <td>615</td>\n",
       "      <td>33.82</td>\n",
       "      <td>78.7</td>\n",
       "      <td>2</td>\n",
       "      <td>6035</td>\n",
       "      <td>4.220</td>\n",
       "      <td>1.257</td>\n",
       "      <td>294.02301</td>\n",
       "      <td>45.853081</td>\n",
       "      <td>15.237</td>\n",
       "    </tr>\n",
       "    <tr>\n",
       "      <th>6429</th>\n",
       "      <td>1</td>\n",
       "      <td>0</td>\n",
       "      <td>0</td>\n",
       "      <td>0</td>\n",
       "      <td>611.092990</td>\n",
       "      <td>134.310100</td>\n",
       "      <td>0.2171</td>\n",
       "      <td>15.22000</td>\n",
       "      <td>270.0</td>\n",
       "      <td>1.53</td>\n",
       "      <td>215</td>\n",
       "      <td>0.51</td>\n",
       "      <td>12.2</td>\n",
       "      <td>1</td>\n",
       "      <td>6032</td>\n",
       "      <td>4.508</td>\n",
       "      <td>0.929</td>\n",
       "      <td>298.16547</td>\n",
       "      <td>40.005249</td>\n",
       "      <td>13.604</td>\n",
       "    </tr>\n",
       "    <tr>\n",
       "      <th>3898</th>\n",
       "      <td>1</td>\n",
       "      <td>0</td>\n",
       "      <td>1</td>\n",
       "      <td>1</td>\n",
       "      <td>0.566806</td>\n",
       "      <td>131.816200</td>\n",
       "      <td>0.0270</td>\n",
       "      <td>4.36700</td>\n",
       "      <td>85.3</td>\n",
       "      <td>0.82</td>\n",
       "      <td>1920</td>\n",
       "      <td>3193.90</td>\n",
       "      <td>25.1</td>\n",
       "      <td>1</td>\n",
       "      <td>5115</td>\n",
       "      <td>4.439</td>\n",
       "      <td>0.917</td>\n",
       "      <td>290.96289</td>\n",
       "      <td>42.570709</td>\n",
       "      <td>14.943</td>\n",
       "    </tr>\n",
       "    <tr>\n",
       "      <th>6849</th>\n",
       "      <td>0</td>\n",
       "      <td>1</td>\n",
       "      <td>0</td>\n",
       "      <td>0</td>\n",
       "      <td>2.570431</td>\n",
       "      <td>133.189517</td>\n",
       "      <td>1.0540</td>\n",
       "      <td>5.49699</td>\n",
       "      <td>76826.0</td>\n",
       "      <td>50.18</td>\n",
       "      <td>1411</td>\n",
       "      <td>936.90</td>\n",
       "      <td>822.9</td>\n",
       "      <td>1</td>\n",
       "      <td>6244</td>\n",
       "      <td>4.473</td>\n",
       "      <td>0.971</td>\n",
       "      <td>298.74158</td>\n",
       "      <td>48.326962</td>\n",
       "      <td>13.430</td>\n",
       "    </tr>\n",
       "  </tbody>\n",
       "</table>\n",
       "</div>"
      ],
      "text/plain": [
       "      koi_fpflag_nt  koi_fpflag_ss  koi_fpflag_co  koi_fpflag_ec  koi_period  \\\n",
       "1793              0              0              0              0    3.784751   \n",
       "236               0              0              0              0   42.634278   \n",
       "6429              1              0              0              0  611.092990   \n",
       "3898              1              0              1              1    0.566806   \n",
       "6849              0              1              0              0    2.570431   \n",
       "\n",
       "      koi_time0bk  koi_impact  koi_duration  koi_depth  koi_prad  koi_teq  \\\n",
       "1793   133.507850      0.0210       2.92400       33.5      0.70     1311   \n",
       "236    141.169540      0.1420       6.19980     1719.3      5.22      615   \n",
       "6429   134.310100      0.2171      15.22000      270.0      1.53      215   \n",
       "3898   131.816200      0.0270       4.36700       85.3      0.82     1920   \n",
       "6849   133.189517      1.0540       5.49699    76826.0     50.18     1411   \n",
       "\n",
       "      koi_insol  koi_model_snr  koi_tce_plnt_num  koi_steff  koi_slogg  \\\n",
       "1793     699.15           12.2                 1       6017      4.326   \n",
       "236       33.82           78.7                 2       6035      4.220   \n",
       "6429       0.51           12.2                 1       6032      4.508   \n",
       "3898    3193.90           25.1                 1       5115      4.439   \n",
       "6849     936.90          822.9                 1       6244      4.473   \n",
       "\n",
       "      koi_srad         ra        dec  koi_kepmag  \n",
       "1793     1.206  292.33755  47.664200      12.581  \n",
       "236      1.257  294.02301  45.853081      15.237  \n",
       "6429     0.929  298.16547  40.005249      13.604  \n",
       "3898     0.917  290.96289  42.570709      14.943  \n",
       "6849     0.971  298.74158  48.326962      13.430  "
      ]
     },
     "execution_count": 8,
     "metadata": {},
     "output_type": "execute_result"
    }
   ],
   "source": [
    "from sklearn.model_selection import train_test_split\n",
    "\n",
    "X_train, X_test, y_train, y_test = train_test_split(X, y)\n",
    "X_train.head()"
   ]
  },
  {
   "cell_type": "markdown",
   "metadata": {},
   "source": [
    "# Pre-processing\n",
    "\n",
    "Scale the data using the MinMaxScaler and perform some feature selection"
   ]
  },
  {
   "cell_type": "code",
   "execution_count": 9,
   "metadata": {},
   "outputs": [],
   "source": [
    "# Scale your data\n",
    "from sklearn.preprocessing import MinMaxScaler\n",
    "\n",
    "X_scaler = MinMaxScaler().fit(X_train)\n",
    "\n",
    "X_train_scaled = X_scaler.transform(X_train)\n",
    "X_test_scaled = X_scaler.transform(X_test)"
   ]
  },
  {
   "cell_type": "markdown",
   "metadata": {},
   "source": [
    "# Train the Model\n",
    "\n"
   ]
  },
  {
   "cell_type": "code",
   "execution_count": 10,
   "metadata": {},
   "outputs": [
    {
     "data": {
      "text/plain": [
       "RandomForestClassifier(n_estimators=200)"
      ]
     },
     "execution_count": 10,
     "metadata": {},
     "output_type": "execute_result"
    }
   ],
   "source": [
    "from sklearn.ensemble import RandomForestClassifier \n",
    "\n",
    "model = RandomForestClassifier(n_estimators=200)\n",
    "model.fit(X_train_scaled, y_train)"
   ]
  },
  {
   "cell_type": "code",
   "execution_count": 11,
   "metadata": {},
   "outputs": [
    {
     "name": "stdout",
     "output_type": "stream",
     "text": [
      "Training Data Score: 1.0\n",
      "Testing Data Score: 0.8941647597254004\n"
     ]
    }
   ],
   "source": [
    "print(f\"Training Data Score: {model.score(X_train_scaled, y_train)}\")\n",
    "print(f\"Testing Data Score: {model.score(X_test_scaled, y_test)}\")"
   ]
  },
  {
   "cell_type": "code",
   "execution_count": 12,
   "metadata": {},
   "outputs": [
    {
     "data": {
      "text/plain": [
       "array([0.12688256, 0.09663781, 0.13207888, 0.04253472, 0.04180501,\n",
       "       0.0297169 , 0.04034691, 0.03190902, 0.05342243, 0.0819765 ,\n",
       "       0.03345477, 0.0243372 , 0.13306989, 0.00826386, 0.02164337,\n",
       "       0.02000454, 0.02033384, 0.02112038, 0.01983435, 0.02062707])"
      ]
     },
     "execution_count": 12,
     "metadata": {},
     "output_type": "execute_result"
    }
   ],
   "source": [
    "importances = model.feature_importances_\n",
    "importances"
   ]
  },
  {
   "cell_type": "markdown",
   "metadata": {},
   "source": [
    "# Hyperparameter Tuning\n",
    "\n",
    "Use `GridSearchCV` to tune the model's parameters"
   ]
  },
  {
   "cell_type": "code",
   "execution_count": 13,
   "metadata": {},
   "outputs": [],
   "source": [
    "# Create the GridSearchCV model\n",
    "from sklearn.model_selection import GridSearchCV\n",
    "param_grid = {'n_estimators' : [10,100,200,500],\n",
    "              'criterion' : ['gini', 'entropy'],\n",
    "              'max_features' : [\"sqrt\", \"log2\"]\n",
    "             }\n",
    "\n",
    "grid = GridSearchCV(model, param_grid, verbose=2)"
   ]
  },
  {
   "cell_type": "code",
   "execution_count": null,
   "metadata": {},
   "outputs": [
    {
     "name": "stdout",
     "output_type": "stream",
     "text": [
      "Fitting 5 folds for each of 16 candidates, totalling 80 fits\n",
      "[CV] criterion=gini, max_features=sqrt, n_estimators=10 ..............\n",
      "[CV]  criterion=gini, max_features=sqrt, n_estimators=10, total=   0.1s\n",
      "[CV] criterion=gini, max_features=sqrt, n_estimators=10 ..............\n"
     ]
    },
    {
     "name": "stderr",
     "output_type": "stream",
     "text": [
      "[Parallel(n_jobs=1)]: Using backend SequentialBackend with 1 concurrent workers.\n",
      "[Parallel(n_jobs=1)]: Done   1 out of   1 | elapsed:    0.0s remaining:    0.0s\n"
     ]
    },
    {
     "name": "stdout",
     "output_type": "stream",
     "text": [
      "[CV]  criterion=gini, max_features=sqrt, n_estimators=10, total=   0.1s\n",
      "[CV] criterion=gini, max_features=sqrt, n_estimators=10 ..............\n",
      "[CV]  criterion=gini, max_features=sqrt, n_estimators=10, total=   0.1s\n",
      "[CV] criterion=gini, max_features=sqrt, n_estimators=10 ..............\n",
      "[CV]  criterion=gini, max_features=sqrt, n_estimators=10, total=   0.1s\n",
      "[CV] criterion=gini, max_features=sqrt, n_estimators=10 ..............\n",
      "[CV]  criterion=gini, max_features=sqrt, n_estimators=10, total=   0.1s\n",
      "[CV] criterion=gini, max_features=sqrt, n_estimators=100 .............\n",
      "[CV]  criterion=gini, max_features=sqrt, n_estimators=100, total=   1.0s\n",
      "[CV] criterion=gini, max_features=sqrt, n_estimators=100 .............\n",
      "[CV]  criterion=gini, max_features=sqrt, n_estimators=100, total=   1.1s\n",
      "[CV] criterion=gini, max_features=sqrt, n_estimators=100 .............\n",
      "[CV]  criterion=gini, max_features=sqrt, n_estimators=100, total=   1.1s\n",
      "[CV] criterion=gini, max_features=sqrt, n_estimators=100 .............\n",
      "[CV]  criterion=gini, max_features=sqrt, n_estimators=100, total=   1.1s\n",
      "[CV] criterion=gini, max_features=sqrt, n_estimators=100 .............\n",
      "[CV]  criterion=gini, max_features=sqrt, n_estimators=100, total=   1.1s\n",
      "[CV] criterion=gini, max_features=sqrt, n_estimators=200 .............\n",
      "[CV]  criterion=gini, max_features=sqrt, n_estimators=200, total=   2.1s\n",
      "[CV] criterion=gini, max_features=sqrt, n_estimators=200 .............\n",
      "[CV]  criterion=gini, max_features=sqrt, n_estimators=200, total=   2.1s\n",
      "[CV] criterion=gini, max_features=sqrt, n_estimators=200 .............\n",
      "[CV]  criterion=gini, max_features=sqrt, n_estimators=200, total=   2.1s\n",
      "[CV] criterion=gini, max_features=sqrt, n_estimators=200 .............\n",
      "[CV]  criterion=gini, max_features=sqrt, n_estimators=200, total=   2.1s\n",
      "[CV] criterion=gini, max_features=sqrt, n_estimators=200 .............\n",
      "[CV]  criterion=gini, max_features=sqrt, n_estimators=200, total=   2.1s\n",
      "[CV] criterion=gini, max_features=sqrt, n_estimators=500 .............\n",
      "[CV]  criterion=gini, max_features=sqrt, n_estimators=500, total=   5.3s\n",
      "[CV] criterion=gini, max_features=sqrt, n_estimators=500 .............\n",
      "[CV]  criterion=gini, max_features=sqrt, n_estimators=500, total=   5.2s\n",
      "[CV] criterion=gini, max_features=sqrt, n_estimators=500 .............\n",
      "[CV]  criterion=gini, max_features=sqrt, n_estimators=500, total=   5.4s\n",
      "[CV] criterion=gini, max_features=sqrt, n_estimators=500 .............\n",
      "[CV]  criterion=gini, max_features=sqrt, n_estimators=500, total=   5.3s\n",
      "[CV] criterion=gini, max_features=sqrt, n_estimators=500 .............\n",
      "[CV]  criterion=gini, max_features=sqrt, n_estimators=500, total=   5.3s\n",
      "[CV] criterion=gini, max_features=log2, n_estimators=10 ..............\n",
      "[CV]  criterion=gini, max_features=log2, n_estimators=10, total=   0.1s\n",
      "[CV] criterion=gini, max_features=log2, n_estimators=10 ..............\n",
      "[CV]  criterion=gini, max_features=log2, n_estimators=10, total=   0.1s\n",
      "[CV] criterion=gini, max_features=log2, n_estimators=10 ..............\n",
      "[CV]  criterion=gini, max_features=log2, n_estimators=10, total=   0.1s\n",
      "[CV] criterion=gini, max_features=log2, n_estimators=10 ..............\n",
      "[CV]  criterion=gini, max_features=log2, n_estimators=10, total=   0.1s\n",
      "[CV] criterion=gini, max_features=log2, n_estimators=10 ..............\n",
      "[CV]  criterion=gini, max_features=log2, n_estimators=10, total=   0.1s\n",
      "[CV] criterion=gini, max_features=log2, n_estimators=100 .............\n",
      "[CV]  criterion=gini, max_features=log2, n_estimators=100, total=   1.1s\n",
      "[CV] criterion=gini, max_features=log2, n_estimators=100 .............\n",
      "[CV]  criterion=gini, max_features=log2, n_estimators=100, total=   1.1s\n",
      "[CV] criterion=gini, max_features=log2, n_estimators=100 .............\n",
      "[CV]  criterion=gini, max_features=log2, n_estimators=100, total=   1.1s\n",
      "[CV] criterion=gini, max_features=log2, n_estimators=100 .............\n",
      "[CV]  criterion=gini, max_features=log2, n_estimators=100, total=   1.1s\n",
      "[CV] criterion=gini, max_features=log2, n_estimators=100 .............\n",
      "[CV]  criterion=gini, max_features=log2, n_estimators=100, total=   1.1s\n",
      "[CV] criterion=gini, max_features=log2, n_estimators=200 .............\n",
      "[CV]  criterion=gini, max_features=log2, n_estimators=200, total=   2.1s\n",
      "[CV] criterion=gini, max_features=log2, n_estimators=200 .............\n",
      "[CV]  criterion=gini, max_features=log2, n_estimators=200, total=   2.1s\n",
      "[CV] criterion=gini, max_features=log2, n_estimators=200 .............\n",
      "[CV]  criterion=gini, max_features=log2, n_estimators=200, total=   2.1s\n",
      "[CV] criterion=gini, max_features=log2, n_estimators=200 .............\n",
      "[CV]  criterion=gini, max_features=log2, n_estimators=200, total=   2.1s\n",
      "[CV] criterion=gini, max_features=log2, n_estimators=200 .............\n",
      "[CV]  criterion=gini, max_features=log2, n_estimators=200, total=   2.1s\n",
      "[CV] criterion=gini, max_features=log2, n_estimators=500 .............\n",
      "[CV]  criterion=gini, max_features=log2, n_estimators=500, total=   5.3s\n",
      "[CV] criterion=gini, max_features=log2, n_estimators=500 .............\n",
      "[CV]  criterion=gini, max_features=log2, n_estimators=500, total=   5.2s\n",
      "[CV] criterion=gini, max_features=log2, n_estimators=500 .............\n",
      "[CV]  criterion=gini, max_features=log2, n_estimators=500, total=   5.4s\n",
      "[CV] criterion=gini, max_features=log2, n_estimators=500 .............\n",
      "[CV]  criterion=gini, max_features=log2, n_estimators=500, total=   5.5s\n",
      "[CV] criterion=gini, max_features=log2, n_estimators=500 .............\n",
      "[CV]  criterion=gini, max_features=log2, n_estimators=500, total=   5.4s\n",
      "[CV] criterion=entropy, max_features=sqrt, n_estimators=10 ...........\n",
      "[CV]  criterion=entropy, max_features=sqrt, n_estimators=10, total=   0.2s\n",
      "[CV] criterion=entropy, max_features=sqrt, n_estimators=10 ...........\n",
      "[CV]  criterion=entropy, max_features=sqrt, n_estimators=10, total=   0.2s\n",
      "[CV] criterion=entropy, max_features=sqrt, n_estimators=10 ...........\n",
      "[CV]  criterion=entropy, max_features=sqrt, n_estimators=10, total=   0.2s\n",
      "[CV] criterion=entropy, max_features=sqrt, n_estimators=10 ...........\n",
      "[CV]  criterion=entropy, max_features=sqrt, n_estimators=10, total=   0.2s\n",
      "[CV] criterion=entropy, max_features=sqrt, n_estimators=10 ...........\n",
      "[CV]  criterion=entropy, max_features=sqrt, n_estimators=10, total=   0.2s\n",
      "[CV] criterion=entropy, max_features=sqrt, n_estimators=100 ..........\n",
      "[CV]  criterion=entropy, max_features=sqrt, n_estimators=100, total=   1.5s\n",
      "[CV] criterion=entropy, max_features=sqrt, n_estimators=100 ..........\n",
      "[CV]  criterion=entropy, max_features=sqrt, n_estimators=100, total=   1.5s\n",
      "[CV] criterion=entropy, max_features=sqrt, n_estimators=100 ..........\n",
      "[CV]  criterion=entropy, max_features=sqrt, n_estimators=100, total=   1.5s\n",
      "[CV] criterion=entropy, max_features=sqrt, n_estimators=100 ..........\n",
      "[CV]  criterion=entropy, max_features=sqrt, n_estimators=100, total=   1.5s\n",
      "[CV] criterion=entropy, max_features=sqrt, n_estimators=100 ..........\n",
      "[CV]  criterion=entropy, max_features=sqrt, n_estimators=100, total=   1.6s\n",
      "[CV] criterion=entropy, max_features=sqrt, n_estimators=200 ..........\n",
      "[CV]  criterion=entropy, max_features=sqrt, n_estimators=200, total=   3.0s\n",
      "[CV] criterion=entropy, max_features=sqrt, n_estimators=200 ..........\n",
      "[CV]  criterion=entropy, max_features=sqrt, n_estimators=200, total=   3.0s\n",
      "[CV] criterion=entropy, max_features=sqrt, n_estimators=200 ..........\n",
      "[CV]  criterion=entropy, max_features=sqrt, n_estimators=200, total=   3.1s\n",
      "[CV] criterion=entropy, max_features=sqrt, n_estimators=200 ..........\n",
      "[CV]  criterion=entropy, max_features=sqrt, n_estimators=200, total=   3.1s\n",
      "[CV] criterion=entropy, max_features=sqrt, n_estimators=200 ..........\n",
      "[CV]  criterion=entropy, max_features=sqrt, n_estimators=200, total=   3.0s\n",
      "[CV] criterion=entropy, max_features=sqrt, n_estimators=500 ..........\n",
      "[CV]  criterion=entropy, max_features=sqrt, n_estimators=500, total=   7.5s\n",
      "[CV] criterion=entropy, max_features=sqrt, n_estimators=500 ..........\n",
      "[CV]  criterion=entropy, max_features=sqrt, n_estimators=500, total=   7.4s\n",
      "[CV] criterion=entropy, max_features=sqrt, n_estimators=500 ..........\n",
      "[CV]  criterion=entropy, max_features=sqrt, n_estimators=500, total=   7.4s\n",
      "[CV] criterion=entropy, max_features=sqrt, n_estimators=500 ..........\n"
     ]
    },
    {
     "name": "stdout",
     "output_type": "stream",
     "text": [
      "[CV]  criterion=entropy, max_features=sqrt, n_estimators=500, total=   7.4s\n",
      "[CV] criterion=entropy, max_features=sqrt, n_estimators=500 ..........\n",
      "[CV]  criterion=entropy, max_features=sqrt, n_estimators=500, total=   7.5s\n",
      "[CV] criterion=entropy, max_features=log2, n_estimators=10 ...........\n",
      "[CV]  criterion=entropy, max_features=log2, n_estimators=10, total=   0.2s\n",
      "[CV] criterion=entropy, max_features=log2, n_estimators=10 ...........\n",
      "[CV]  criterion=entropy, max_features=log2, n_estimators=10, total=   0.2s\n",
      "[CV] criterion=entropy, max_features=log2, n_estimators=10 ...........\n",
      "[CV]  criterion=entropy, max_features=log2, n_estimators=10, total=   0.2s\n",
      "[CV] criterion=entropy, max_features=log2, n_estimators=10 ...........\n",
      "[CV]  criterion=entropy, max_features=log2, n_estimators=10, total=   0.2s\n",
      "[CV] criterion=entropy, max_features=log2, n_estimators=10 ...........\n",
      "[CV]  criterion=entropy, max_features=log2, n_estimators=10, total=   0.2s\n",
      "[CV] criterion=entropy, max_features=log2, n_estimators=100 ..........\n",
      "[CV]  criterion=entropy, max_features=log2, n_estimators=100, total=   1.5s\n",
      "[CV] criterion=entropy, max_features=log2, n_estimators=100 ..........\n",
      "[CV]  criterion=entropy, max_features=log2, n_estimators=100, total=   1.5s\n",
      "[CV] criterion=entropy, max_features=log2, n_estimators=100 ..........\n",
      "[CV]  criterion=entropy, max_features=log2, n_estimators=100, total=   1.5s\n",
      "[CV] criterion=entropy, max_features=log2, n_estimators=100 ..........\n",
      "[CV]  criterion=entropy, max_features=log2, n_estimators=100, total=   1.5s\n",
      "[CV] criterion=entropy, max_features=log2, n_estimators=100 ..........\n",
      "[CV]  criterion=entropy, max_features=log2, n_estimators=100, total=   1.6s\n",
      "[CV] criterion=entropy, max_features=log2, n_estimators=200 ..........\n",
      "[CV]  criterion=entropy, max_features=log2, n_estimators=200, total=   3.1s\n",
      "[CV] criterion=entropy, max_features=log2, n_estimators=200 ..........\n"
     ]
    }
   ],
   "source": [
    "# Train the model with GridSearch\n",
    "grid.fit(X_train_scaled, y_train)"
   ]
  },
  {
   "cell_type": "code",
   "execution_count": null,
   "metadata": {},
   "outputs": [],
   "source": [
    "print(grid.best_params_)\n",
    "print(grid.best_score_)"
   ]
  },
  {
   "cell_type": "markdown",
   "metadata": {},
   "source": [
    "# Save the Model"
   ]
  },
  {
   "cell_type": "code",
   "execution_count": null,
   "metadata": {},
   "outputs": [],
   "source": [
    "# save your model by updating \"your_name\" with your name\n",
    "# and \"your_model\" with your model variable\n",
    "# be sure to turn this in to BCS\n",
    "# if joblib fails to import, try running the command to install in terminal/git-bash\n",
    "import joblib\n",
    "filename = 'randomforest.sav'\n",
    "joblib.dump(model, filename)"
   ]
  },
  {
   "cell_type": "code",
   "execution_count": null,
   "metadata": {},
   "outputs": [],
   "source": []
  }
 ],
 "metadata": {
  "kernel_info": {
   "name": "dev"
  },
  "kernelspec": {
   "display_name": "Python 3",
   "language": "python",
   "name": "python3"
  },
  "language_info": {
   "codemirror_mode": {
    "name": "ipython",
    "version": 3
   },
   "file_extension": ".py",
   "mimetype": "text/x-python",
   "name": "python",
   "nbconvert_exporter": "python",
   "pygments_lexer": "ipython3",
   "version": "3.8.5"
  },
  "nteract": {
   "version": "0.12.3"
  }
 },
 "nbformat": 4,
 "nbformat_minor": 2
}
