{
 "cells": [
  {
   "cell_type": "code",
   "execution_count": 1,
   "metadata": {},
   "outputs": [
    {
     "name": "stdout",
     "output_type": "stream",
     "text": [
      "Requirement already up-to-date: sklearn in c:\\users\\jordanroessle\\anaconda3\\lib\\site-packages (0.0)\n",
      "Requirement already satisfied, skipping upgrade: scikit-learn in c:\\users\\jordanroessle\\anaconda3\\lib\\site-packages (from sklearn) (0.23.2)\n",
      "Requirement already satisfied, skipping upgrade: threadpoolctl>=2.0.0 in c:\\users\\jordanroessle\\anaconda3\\lib\\site-packages (from scikit-learn->sklearn) (2.1.0)\n",
      "Requirement already satisfied, skipping upgrade: scipy>=0.19.1 in c:\\users\\jordanroessle\\anaconda3\\lib\\site-packages (from scikit-learn->sklearn) (1.5.2)\n",
      "Requirement already satisfied, skipping upgrade: joblib>=0.11 in c:\\users\\jordanroessle\\anaconda3\\lib\\site-packages (from scikit-learn->sklearn) (0.17.0)\n",
      "Requirement already satisfied, skipping upgrade: numpy>=1.13.3 in c:\\users\\jordanroessle\\anaconda3\\lib\\site-packages (from scikit-learn->sklearn) (1.19.2)\n"
     ]
    }
   ],
   "source": [
    "# Update sklearn to prevent version mismatches\n",
    "!pip install sklearn --upgrade"
   ]
  },
  {
   "cell_type": "code",
   "execution_count": 2,
   "metadata": {},
   "outputs": [
    {
     "name": "stdout",
     "output_type": "stream",
     "text": [
      "Requirement already satisfied: joblib in c:\\users\\jordanroessle\\anaconda3\\lib\\site-packages (0.17.0)\n"
     ]
    }
   ],
   "source": [
    "# install joblib. This will be used to save your model. \n",
    "# Restart your kernel after installing \n",
    "!pip install joblib"
   ]
  },
  {
   "cell_type": "code",
   "execution_count": 3,
   "metadata": {},
   "outputs": [],
   "source": [
    "import pandas as pd"
   ]
  },
  {
   "cell_type": "markdown",
   "metadata": {},
   "source": [
    "# Read the CSV and Perform Basic Data Cleaning"
   ]
  },
  {
   "cell_type": "code",
   "execution_count": 4,
   "metadata": {},
   "outputs": [
    {
     "data": {
      "text/html": [
       "<div>\n",
       "<style scoped>\n",
       "    .dataframe tbody tr th:only-of-type {\n",
       "        vertical-align: middle;\n",
       "    }\n",
       "\n",
       "    .dataframe tbody tr th {\n",
       "        vertical-align: top;\n",
       "    }\n",
       "\n",
       "    .dataframe thead th {\n",
       "        text-align: right;\n",
       "    }\n",
       "</style>\n",
       "<table border=\"1\" class=\"dataframe\">\n",
       "  <thead>\n",
       "    <tr style=\"text-align: right;\">\n",
       "      <th></th>\n",
       "      <th>koi_disposition</th>\n",
       "      <th>koi_fpflag_nt</th>\n",
       "      <th>koi_fpflag_ss</th>\n",
       "      <th>koi_fpflag_co</th>\n",
       "      <th>koi_fpflag_ec</th>\n",
       "      <th>koi_period</th>\n",
       "      <th>koi_period_err1</th>\n",
       "      <th>koi_period_err2</th>\n",
       "      <th>koi_time0bk</th>\n",
       "      <th>koi_time0bk_err1</th>\n",
       "      <th>...</th>\n",
       "      <th>koi_steff_err2</th>\n",
       "      <th>koi_slogg</th>\n",
       "      <th>koi_slogg_err1</th>\n",
       "      <th>koi_slogg_err2</th>\n",
       "      <th>koi_srad</th>\n",
       "      <th>koi_srad_err1</th>\n",
       "      <th>koi_srad_err2</th>\n",
       "      <th>ra</th>\n",
       "      <th>dec</th>\n",
       "      <th>koi_kepmag</th>\n",
       "    </tr>\n",
       "  </thead>\n",
       "  <tbody>\n",
       "    <tr>\n",
       "      <th>0</th>\n",
       "      <td>CONFIRMED</td>\n",
       "      <td>0</td>\n",
       "      <td>0</td>\n",
       "      <td>0</td>\n",
       "      <td>0</td>\n",
       "      <td>54.418383</td>\n",
       "      <td>2.479000e-04</td>\n",
       "      <td>-2.479000e-04</td>\n",
       "      <td>162.513840</td>\n",
       "      <td>0.003520</td>\n",
       "      <td>...</td>\n",
       "      <td>-81</td>\n",
       "      <td>4.467</td>\n",
       "      <td>0.064</td>\n",
       "      <td>-0.096</td>\n",
       "      <td>0.927</td>\n",
       "      <td>0.105</td>\n",
       "      <td>-0.061</td>\n",
       "      <td>291.93423</td>\n",
       "      <td>48.141651</td>\n",
       "      <td>15.347</td>\n",
       "    </tr>\n",
       "    <tr>\n",
       "      <th>1</th>\n",
       "      <td>FALSE POSITIVE</td>\n",
       "      <td>0</td>\n",
       "      <td>1</td>\n",
       "      <td>0</td>\n",
       "      <td>0</td>\n",
       "      <td>19.899140</td>\n",
       "      <td>1.490000e-05</td>\n",
       "      <td>-1.490000e-05</td>\n",
       "      <td>175.850252</td>\n",
       "      <td>0.000581</td>\n",
       "      <td>...</td>\n",
       "      <td>-176</td>\n",
       "      <td>4.544</td>\n",
       "      <td>0.044</td>\n",
       "      <td>-0.176</td>\n",
       "      <td>0.868</td>\n",
       "      <td>0.233</td>\n",
       "      <td>-0.078</td>\n",
       "      <td>297.00482</td>\n",
       "      <td>48.134129</td>\n",
       "      <td>15.436</td>\n",
       "    </tr>\n",
       "    <tr>\n",
       "      <th>2</th>\n",
       "      <td>FALSE POSITIVE</td>\n",
       "      <td>0</td>\n",
       "      <td>1</td>\n",
       "      <td>0</td>\n",
       "      <td>0</td>\n",
       "      <td>1.736952</td>\n",
       "      <td>2.630000e-07</td>\n",
       "      <td>-2.630000e-07</td>\n",
       "      <td>170.307565</td>\n",
       "      <td>0.000115</td>\n",
       "      <td>...</td>\n",
       "      <td>-174</td>\n",
       "      <td>4.564</td>\n",
       "      <td>0.053</td>\n",
       "      <td>-0.168</td>\n",
       "      <td>0.791</td>\n",
       "      <td>0.201</td>\n",
       "      <td>-0.067</td>\n",
       "      <td>285.53461</td>\n",
       "      <td>48.285210</td>\n",
       "      <td>15.597</td>\n",
       "    </tr>\n",
       "    <tr>\n",
       "      <th>3</th>\n",
       "      <td>CONFIRMED</td>\n",
       "      <td>0</td>\n",
       "      <td>0</td>\n",
       "      <td>0</td>\n",
       "      <td>0</td>\n",
       "      <td>2.525592</td>\n",
       "      <td>3.760000e-06</td>\n",
       "      <td>-3.760000e-06</td>\n",
       "      <td>171.595550</td>\n",
       "      <td>0.001130</td>\n",
       "      <td>...</td>\n",
       "      <td>-211</td>\n",
       "      <td>4.438</td>\n",
       "      <td>0.070</td>\n",
       "      <td>-0.210</td>\n",
       "      <td>1.046</td>\n",
       "      <td>0.334</td>\n",
       "      <td>-0.133</td>\n",
       "      <td>288.75488</td>\n",
       "      <td>48.226200</td>\n",
       "      <td>15.509</td>\n",
       "    </tr>\n",
       "    <tr>\n",
       "      <th>4</th>\n",
       "      <td>CONFIRMED</td>\n",
       "      <td>0</td>\n",
       "      <td>0</td>\n",
       "      <td>0</td>\n",
       "      <td>0</td>\n",
       "      <td>4.134435</td>\n",
       "      <td>1.050000e-05</td>\n",
       "      <td>-1.050000e-05</td>\n",
       "      <td>172.979370</td>\n",
       "      <td>0.001900</td>\n",
       "      <td>...</td>\n",
       "      <td>-232</td>\n",
       "      <td>4.486</td>\n",
       "      <td>0.054</td>\n",
       "      <td>-0.229</td>\n",
       "      <td>0.972</td>\n",
       "      <td>0.315</td>\n",
       "      <td>-0.105</td>\n",
       "      <td>296.28613</td>\n",
       "      <td>48.224670</td>\n",
       "      <td>15.714</td>\n",
       "    </tr>\n",
       "  </tbody>\n",
       "</table>\n",
       "<p>5 rows × 41 columns</p>\n",
       "</div>"
      ],
      "text/plain": [
       "  koi_disposition  koi_fpflag_nt  koi_fpflag_ss  koi_fpflag_co  koi_fpflag_ec  \\\n",
       "0       CONFIRMED              0              0              0              0   \n",
       "1  FALSE POSITIVE              0              1              0              0   \n",
       "2  FALSE POSITIVE              0              1              0              0   \n",
       "3       CONFIRMED              0              0              0              0   \n",
       "4       CONFIRMED              0              0              0              0   \n",
       "\n",
       "   koi_period  koi_period_err1  koi_period_err2  koi_time0bk  \\\n",
       "0   54.418383     2.479000e-04    -2.479000e-04   162.513840   \n",
       "1   19.899140     1.490000e-05    -1.490000e-05   175.850252   \n",
       "2    1.736952     2.630000e-07    -2.630000e-07   170.307565   \n",
       "3    2.525592     3.760000e-06    -3.760000e-06   171.595550   \n",
       "4    4.134435     1.050000e-05    -1.050000e-05   172.979370   \n",
       "\n",
       "   koi_time0bk_err1  ...  koi_steff_err2  koi_slogg  koi_slogg_err1  \\\n",
       "0          0.003520  ...             -81      4.467           0.064   \n",
       "1          0.000581  ...            -176      4.544           0.044   \n",
       "2          0.000115  ...            -174      4.564           0.053   \n",
       "3          0.001130  ...            -211      4.438           0.070   \n",
       "4          0.001900  ...            -232      4.486           0.054   \n",
       "\n",
       "   koi_slogg_err2  koi_srad  koi_srad_err1  koi_srad_err2         ra  \\\n",
       "0          -0.096     0.927          0.105         -0.061  291.93423   \n",
       "1          -0.176     0.868          0.233         -0.078  297.00482   \n",
       "2          -0.168     0.791          0.201         -0.067  285.53461   \n",
       "3          -0.210     1.046          0.334         -0.133  288.75488   \n",
       "4          -0.229     0.972          0.315         -0.105  296.28613   \n",
       "\n",
       "         dec  koi_kepmag  \n",
       "0  48.141651      15.347  \n",
       "1  48.134129      15.436  \n",
       "2  48.285210      15.597  \n",
       "3  48.226200      15.509  \n",
       "4  48.224670      15.714  \n",
       "\n",
       "[5 rows x 41 columns]"
      ]
     },
     "execution_count": 4,
     "metadata": {},
     "output_type": "execute_result"
    }
   ],
   "source": [
    "df = pd.read_csv(\"exoplanet_data.csv\")\n",
    "# Drop the null columns where all values are null\n",
    "df = df.dropna(axis='columns', how='all')\n",
    "# Drop the null rows\n",
    "df = df.dropna()\n",
    "df.head()"
   ]
  },
  {
   "cell_type": "markdown",
   "metadata": {},
   "source": [
    "# Select your features (columns)"
   ]
  },
  {
   "cell_type": "code",
   "execution_count": 5,
   "metadata": {},
   "outputs": [
    {
     "data": {
      "text/plain": [
       "Index(['koi_disposition', 'koi_fpflag_nt', 'koi_fpflag_ss', 'koi_fpflag_co',\n",
       "       'koi_fpflag_ec', 'koi_period', 'koi_period_err1', 'koi_period_err2',\n",
       "       'koi_time0bk', 'koi_time0bk_err1', 'koi_time0bk_err2', 'koi_impact',\n",
       "       'koi_impact_err1', 'koi_impact_err2', 'koi_duration',\n",
       "       'koi_duration_err1', 'koi_duration_err2', 'koi_depth', 'koi_depth_err1',\n",
       "       'koi_depth_err2', 'koi_prad', 'koi_prad_err1', 'koi_prad_err2',\n",
       "       'koi_teq', 'koi_insol', 'koi_insol_err1', 'koi_insol_err2',\n",
       "       'koi_model_snr', 'koi_tce_plnt_num', 'koi_steff', 'koi_steff_err1',\n",
       "       'koi_steff_err2', 'koi_slogg', 'koi_slogg_err1', 'koi_slogg_err2',\n",
       "       'koi_srad', 'koi_srad_err1', 'koi_srad_err2', 'ra', 'dec',\n",
       "       'koi_kepmag'],\n",
       "      dtype='object')"
      ]
     },
     "execution_count": 5,
     "metadata": {},
     "output_type": "execute_result"
    }
   ],
   "source": [
    "df.columns"
   ]
  },
  {
   "cell_type": "code",
   "execution_count": 6,
   "metadata": {},
   "outputs": [],
   "source": [
    "# Set features. This will also be used as your x values.\n",
    "selected_features = df[['koi_fpflag_nt', \n",
    "                        'koi_fpflag_ss', \n",
    "                        'koi_fpflag_co', \n",
    "                        'koi_fpflag_ec', \n",
    "                        'koi_period',\n",
    "                       'koi_time0bk',\n",
    "                       'koi_impact',\n",
    "                       'koi_duration',\n",
    "                       'koi_depth',\n",
    "                       'koi_prad',\n",
    "                       'koi_teq',\n",
    "                       'koi_insol',\n",
    "                       'koi_model_snr',\n",
    "                       'koi_tce_plnt_num',\n",
    "                       'koi_steff',\n",
    "                       'koi_slogg',\n",
    "                       'koi_srad',\n",
    "                       'ra',\n",
    "                       'dec',\n",
    "                       'koi_kepmag']]"
   ]
  },
  {
   "cell_type": "markdown",
   "metadata": {},
   "source": [
    "# Create a Train Test Split\n",
    "\n",
    "Use `koi_disposition` for the y values"
   ]
  },
  {
   "cell_type": "code",
   "execution_count": 7,
   "metadata": {},
   "outputs": [
    {
     "name": "stdout",
     "output_type": "stream",
     "text": [
      "(6991, 20) (6991,)\n"
     ]
    }
   ],
   "source": [
    "X = selected_features\n",
    "y = df[\"koi_disposition\"]\n",
    "\n",
    "print(X.shape, y.shape)"
   ]
  },
  {
   "cell_type": "code",
   "execution_count": 8,
   "metadata": {},
   "outputs": [
    {
     "data": {
      "text/html": [
       "<div>\n",
       "<style scoped>\n",
       "    .dataframe tbody tr th:only-of-type {\n",
       "        vertical-align: middle;\n",
       "    }\n",
       "\n",
       "    .dataframe tbody tr th {\n",
       "        vertical-align: top;\n",
       "    }\n",
       "\n",
       "    .dataframe thead th {\n",
       "        text-align: right;\n",
       "    }\n",
       "</style>\n",
       "<table border=\"1\" class=\"dataframe\">\n",
       "  <thead>\n",
       "    <tr style=\"text-align: right;\">\n",
       "      <th></th>\n",
       "      <th>koi_fpflag_nt</th>\n",
       "      <th>koi_fpflag_ss</th>\n",
       "      <th>koi_fpflag_co</th>\n",
       "      <th>koi_fpflag_ec</th>\n",
       "      <th>koi_period</th>\n",
       "      <th>koi_time0bk</th>\n",
       "      <th>koi_impact</th>\n",
       "      <th>koi_duration</th>\n",
       "      <th>koi_depth</th>\n",
       "      <th>koi_prad</th>\n",
       "      <th>koi_teq</th>\n",
       "      <th>koi_insol</th>\n",
       "      <th>koi_model_snr</th>\n",
       "      <th>koi_tce_plnt_num</th>\n",
       "      <th>koi_steff</th>\n",
       "      <th>koi_slogg</th>\n",
       "      <th>koi_srad</th>\n",
       "      <th>ra</th>\n",
       "      <th>dec</th>\n",
       "      <th>koi_kepmag</th>\n",
       "    </tr>\n",
       "  </thead>\n",
       "  <tbody>\n",
       "    <tr>\n",
       "      <th>4229</th>\n",
       "      <td>0</td>\n",
       "      <td>1</td>\n",
       "      <td>0</td>\n",
       "      <td>0</td>\n",
       "      <td>185.952632</td>\n",
       "      <td>288.874323</td>\n",
       "      <td>1.264</td>\n",
       "      <td>3.5964</td>\n",
       "      <td>11107.0</td>\n",
       "      <td>50.98</td>\n",
       "      <td>343</td>\n",
       "      <td>3.28</td>\n",
       "      <td>147.3</td>\n",
       "      <td>1</td>\n",
       "      <td>5813</td>\n",
       "      <td>4.330</td>\n",
       "      <td>1.164</td>\n",
       "      <td>289.15240</td>\n",
       "      <td>50.253159</td>\n",
       "      <td>14.305</td>\n",
       "    </tr>\n",
       "    <tr>\n",
       "      <th>3024</th>\n",
       "      <td>0</td>\n",
       "      <td>0</td>\n",
       "      <td>0</td>\n",
       "      <td>0</td>\n",
       "      <td>1.717860</td>\n",
       "      <td>132.926120</td>\n",
       "      <td>0.350</td>\n",
       "      <td>0.9080</td>\n",
       "      <td>66.3</td>\n",
       "      <td>1.45</td>\n",
       "      <td>2212</td>\n",
       "      <td>5645.85</td>\n",
       "      <td>9.5</td>\n",
       "      <td>1</td>\n",
       "      <td>6694</td>\n",
       "      <td>4.084</td>\n",
       "      <td>1.732</td>\n",
       "      <td>290.81366</td>\n",
       "      <td>40.254875</td>\n",
       "      <td>13.228</td>\n",
       "    </tr>\n",
       "    <tr>\n",
       "      <th>1324</th>\n",
       "      <td>0</td>\n",
       "      <td>0</td>\n",
       "      <td>0</td>\n",
       "      <td>0</td>\n",
       "      <td>5.186737</td>\n",
       "      <td>134.995090</td>\n",
       "      <td>0.825</td>\n",
       "      <td>0.8023</td>\n",
       "      <td>712.7</td>\n",
       "      <td>2.40</td>\n",
       "      <td>860</td>\n",
       "      <td>129.37</td>\n",
       "      <td>25.7</td>\n",
       "      <td>1</td>\n",
       "      <td>5230</td>\n",
       "      <td>4.594</td>\n",
       "      <td>0.777</td>\n",
       "      <td>288.66449</td>\n",
       "      <td>51.498421</td>\n",
       "      <td>14.988</td>\n",
       "    </tr>\n",
       "    <tr>\n",
       "      <th>6060</th>\n",
       "      <td>0</td>\n",
       "      <td>0</td>\n",
       "      <td>0</td>\n",
       "      <td>0</td>\n",
       "      <td>0.933728</td>\n",
       "      <td>131.533600</td>\n",
       "      <td>0.015</td>\n",
       "      <td>3.4410</td>\n",
       "      <td>67.7</td>\n",
       "      <td>0.85</td>\n",
       "      <td>2006</td>\n",
       "      <td>3826.49</td>\n",
       "      <td>13.3</td>\n",
       "      <td>1</td>\n",
       "      <td>6170</td>\n",
       "      <td>4.430</td>\n",
       "      <td>1.032</td>\n",
       "      <td>292.16614</td>\n",
       "      <td>47.612251</td>\n",
       "      <td>15.317</td>\n",
       "    </tr>\n",
       "    <tr>\n",
       "      <th>2254</th>\n",
       "      <td>0</td>\n",
       "      <td>0</td>\n",
       "      <td>0</td>\n",
       "      <td>0</td>\n",
       "      <td>6.521210</td>\n",
       "      <td>175.711100</td>\n",
       "      <td>0.514</td>\n",
       "      <td>2.7975</td>\n",
       "      <td>760.4</td>\n",
       "      <td>2.54</td>\n",
       "      <td>932</td>\n",
       "      <td>178.27</td>\n",
       "      <td>69.8</td>\n",
       "      <td>1</td>\n",
       "      <td>5822</td>\n",
       "      <td>4.529</td>\n",
       "      <td>0.898</td>\n",
       "      <td>292.22031</td>\n",
       "      <td>44.700031</td>\n",
       "      <td>14.856</td>\n",
       "    </tr>\n",
       "  </tbody>\n",
       "</table>\n",
       "</div>"
      ],
      "text/plain": [
       "      koi_fpflag_nt  koi_fpflag_ss  koi_fpflag_co  koi_fpflag_ec  koi_period  \\\n",
       "4229              0              1              0              0  185.952632   \n",
       "3024              0              0              0              0    1.717860   \n",
       "1324              0              0              0              0    5.186737   \n",
       "6060              0              0              0              0    0.933728   \n",
       "2254              0              0              0              0    6.521210   \n",
       "\n",
       "      koi_time0bk  koi_impact  koi_duration  koi_depth  koi_prad  koi_teq  \\\n",
       "4229   288.874323       1.264        3.5964    11107.0     50.98      343   \n",
       "3024   132.926120       0.350        0.9080       66.3      1.45     2212   \n",
       "1324   134.995090       0.825        0.8023      712.7      2.40      860   \n",
       "6060   131.533600       0.015        3.4410       67.7      0.85     2006   \n",
       "2254   175.711100       0.514        2.7975      760.4      2.54      932   \n",
       "\n",
       "      koi_insol  koi_model_snr  koi_tce_plnt_num  koi_steff  koi_slogg  \\\n",
       "4229       3.28          147.3                 1       5813      4.330   \n",
       "3024    5645.85            9.5                 1       6694      4.084   \n",
       "1324     129.37           25.7                 1       5230      4.594   \n",
       "6060    3826.49           13.3                 1       6170      4.430   \n",
       "2254     178.27           69.8                 1       5822      4.529   \n",
       "\n",
       "      koi_srad         ra        dec  koi_kepmag  \n",
       "4229     1.164  289.15240  50.253159      14.305  \n",
       "3024     1.732  290.81366  40.254875      13.228  \n",
       "1324     0.777  288.66449  51.498421      14.988  \n",
       "6060     1.032  292.16614  47.612251      15.317  \n",
       "2254     0.898  292.22031  44.700031      14.856  "
      ]
     },
     "execution_count": 8,
     "metadata": {},
     "output_type": "execute_result"
    }
   ],
   "source": [
    "from sklearn.model_selection import train_test_split\n",
    "\n",
    "X_train, X_test, y_train, y_test = train_test_split(X, y)\n",
    "X_train.head()"
   ]
  },
  {
   "cell_type": "markdown",
   "metadata": {},
   "source": [
    "# Pre-processing\n",
    "\n",
    "Scale the data using the MinMaxScaler and perform some feature selection"
   ]
  },
  {
   "cell_type": "code",
   "execution_count": 9,
   "metadata": {},
   "outputs": [],
   "source": [
    "# Scale your data\n",
    "from sklearn.preprocessing import MinMaxScaler\n",
    "\n",
    "X_scaler = MinMaxScaler().fit(X_train)\n",
    "\n",
    "X_train_scaled = X_scaler.transform(X_train)\n",
    "X_test_scaled = X_scaler.transform(X_test)"
   ]
  },
  {
   "cell_type": "markdown",
   "metadata": {},
   "source": [
    "# Train the Model\n",
    "\n"
   ]
  },
  {
   "cell_type": "code",
   "execution_count": 10,
   "metadata": {},
   "outputs": [
    {
     "data": {
      "text/plain": [
       "RandomForestClassifier(n_estimators=200)"
      ]
     },
     "execution_count": 10,
     "metadata": {},
     "output_type": "execute_result"
    }
   ],
   "source": [
    "from sklearn.ensemble import RandomForestClassifier \n",
    "\n",
    "model = RandomForestClassifier(n_estimators=200)\n",
    "model.fit(X_train_scaled, y_train)"
   ]
  },
  {
   "cell_type": "code",
   "execution_count": 11,
   "metadata": {},
   "outputs": [
    {
     "name": "stdout",
     "output_type": "stream",
     "text": [
      "Training Data Score: 1.0\n",
      "Testing Data Score: 0.8918764302059496\n"
     ]
    }
   ],
   "source": [
    "print(f\"Training Data Score: {model.score(X_train_scaled, y_train)}\")\n",
    "print(f\"Testing Data Score: {model.score(X_test_scaled, y_test)}\")"
   ]
  },
  {
   "cell_type": "code",
   "execution_count": 12,
   "metadata": {},
   "outputs": [
    {
     "data": {
      "text/plain": [
       "array([0.12496754, 0.09369204, 0.12477474, 0.04572647, 0.04199871,\n",
       "       0.03015147, 0.04120602, 0.03206786, 0.05238313, 0.08372889,\n",
       "       0.03337697, 0.02863531, 0.13053276, 0.00961169, 0.02116585,\n",
       "       0.02064986, 0.02145717, 0.0220741 , 0.02090177, 0.02089764])"
      ]
     },
     "execution_count": 12,
     "metadata": {},
     "output_type": "execute_result"
    }
   ],
   "source": [
    "importances = model.feature_importances_\n",
    "importances"
   ]
  },
  {
   "cell_type": "markdown",
   "metadata": {},
   "source": [
    "# Hyperparameter Tuning\n",
    "\n",
    "Use `GridSearchCV` to tune the model's parameters"
   ]
  },
  {
   "cell_type": "code",
   "execution_count": 13,
   "metadata": {},
   "outputs": [],
   "source": [
    "# Create the GridSearchCV model\n",
    "from sklearn.model_selection import GridSearchCV\n",
    "param_grid = {'n_estimators' : [10,100,200,500],\n",
    "              'criterion' : ['gini', 'entropy'],\n",
    "              'max_features' : [\"sqrt\", \"log2\"]\n",
    "             }\n",
    "\n",
    "grid = GridSearchCV(model, param_grid, verbose=2)"
   ]
  },
  {
   "cell_type": "code",
   "execution_count": 14,
   "metadata": {},
   "outputs": [
    {
     "name": "stdout",
     "output_type": "stream",
     "text": [
      "Fitting 5 folds for each of 16 candidates, totalling 80 fits\n",
      "[CV] criterion=gini, max_features=sqrt, n_estimators=10 ..............\n",
      "[CV]  criterion=gini, max_features=sqrt, n_estimators=10, total=   0.1s\n",
      "[CV] criterion=gini, max_features=sqrt, n_estimators=10 ..............\n"
     ]
    },
    {
     "name": "stderr",
     "output_type": "stream",
     "text": [
      "[Parallel(n_jobs=1)]: Using backend SequentialBackend with 1 concurrent workers.\n",
      "[Parallel(n_jobs=1)]: Done   1 out of   1 | elapsed:    0.0s remaining:    0.0s\n"
     ]
    },
    {
     "name": "stdout",
     "output_type": "stream",
     "text": [
      "[CV]  criterion=gini, max_features=sqrt, n_estimators=10, total=   0.1s\n",
      "[CV] criterion=gini, max_features=sqrt, n_estimators=10 ..............\n",
      "[CV]  criterion=gini, max_features=sqrt, n_estimators=10, total=   0.1s\n",
      "[CV] criterion=gini, max_features=sqrt, n_estimators=10 ..............\n",
      "[CV]  criterion=gini, max_features=sqrt, n_estimators=10, total=   0.1s\n",
      "[CV] criterion=gini, max_features=sqrt, n_estimators=10 ..............\n",
      "[CV]  criterion=gini, max_features=sqrt, n_estimators=10, total=   0.1s\n",
      "[CV] criterion=gini, max_features=sqrt, n_estimators=100 .............\n",
      "[CV]  criterion=gini, max_features=sqrt, n_estimators=100, total=   1.0s\n",
      "[CV] criterion=gini, max_features=sqrt, n_estimators=100 .............\n",
      "[CV]  criterion=gini, max_features=sqrt, n_estimators=100, total=   1.0s\n",
      "[CV] criterion=gini, max_features=sqrt, n_estimators=100 .............\n",
      "[CV]  criterion=gini, max_features=sqrt, n_estimators=100, total=   1.1s\n",
      "[CV] criterion=gini, max_features=sqrt, n_estimators=100 .............\n",
      "[CV]  criterion=gini, max_features=sqrt, n_estimators=100, total=   1.0s\n",
      "[CV] criterion=gini, max_features=sqrt, n_estimators=100 .............\n",
      "[CV]  criterion=gini, max_features=sqrt, n_estimators=100, total=   1.0s\n",
      "[CV] criterion=gini, max_features=sqrt, n_estimators=200 .............\n",
      "[CV]  criterion=gini, max_features=sqrt, n_estimators=200, total=   2.1s\n",
      "[CV] criterion=gini, max_features=sqrt, n_estimators=200 .............\n",
      "[CV]  criterion=gini, max_features=sqrt, n_estimators=200, total=   2.1s\n",
      "[CV] criterion=gini, max_features=sqrt, n_estimators=200 .............\n",
      "[CV]  criterion=gini, max_features=sqrt, n_estimators=200, total=   2.0s\n",
      "[CV] criterion=gini, max_features=sqrt, n_estimators=200 .............\n",
      "[CV]  criterion=gini, max_features=sqrt, n_estimators=200, total=   2.0s\n",
      "[CV] criterion=gini, max_features=sqrt, n_estimators=200 .............\n",
      "[CV]  criterion=gini, max_features=sqrt, n_estimators=200, total=   2.0s\n",
      "[CV] criterion=gini, max_features=sqrt, n_estimators=500 .............\n",
      "[CV]  criterion=gini, max_features=sqrt, n_estimators=500, total=   5.1s\n",
      "[CV] criterion=gini, max_features=sqrt, n_estimators=500 .............\n",
      "[CV]  criterion=gini, max_features=sqrt, n_estimators=500, total=   5.2s\n",
      "[CV] criterion=gini, max_features=sqrt, n_estimators=500 .............\n",
      "[CV]  criterion=gini, max_features=sqrt, n_estimators=500, total=   5.2s\n",
      "[CV] criterion=gini, max_features=sqrt, n_estimators=500 .............\n",
      "[CV]  criterion=gini, max_features=sqrt, n_estimators=500, total=   5.3s\n",
      "[CV] criterion=gini, max_features=sqrt, n_estimators=500 .............\n",
      "[CV]  criterion=gini, max_features=sqrt, n_estimators=500, total=   5.1s\n",
      "[CV] criterion=gini, max_features=log2, n_estimators=10 ..............\n",
      "[CV]  criterion=gini, max_features=log2, n_estimators=10, total=   0.1s\n",
      "[CV] criterion=gini, max_features=log2, n_estimators=10 ..............\n",
      "[CV]  criterion=gini, max_features=log2, n_estimators=10, total=   0.1s\n",
      "[CV] criterion=gini, max_features=log2, n_estimators=10 ..............\n",
      "[CV]  criterion=gini, max_features=log2, n_estimators=10, total=   0.1s\n",
      "[CV] criterion=gini, max_features=log2, n_estimators=10 ..............\n",
      "[CV]  criterion=gini, max_features=log2, n_estimators=10, total=   0.1s\n",
      "[CV] criterion=gini, max_features=log2, n_estimators=10 ..............\n",
      "[CV]  criterion=gini, max_features=log2, n_estimators=10, total=   0.1s\n",
      "[CV] criterion=gini, max_features=log2, n_estimators=100 .............\n",
      "[CV]  criterion=gini, max_features=log2, n_estimators=100, total=   1.0s\n",
      "[CV] criterion=gini, max_features=log2, n_estimators=100 .............\n",
      "[CV]  criterion=gini, max_features=log2, n_estimators=100, total=   1.0s\n",
      "[CV] criterion=gini, max_features=log2, n_estimators=100 .............\n",
      "[CV]  criterion=gini, max_features=log2, n_estimators=100, total=   1.0s\n",
      "[CV] criterion=gini, max_features=log2, n_estimators=100 .............\n",
      "[CV]  criterion=gini, max_features=log2, n_estimators=100, total=   1.0s\n",
      "[CV] criterion=gini, max_features=log2, n_estimators=100 .............\n",
      "[CV]  criterion=gini, max_features=log2, n_estimators=100, total=   1.0s\n",
      "[CV] criterion=gini, max_features=log2, n_estimators=200 .............\n",
      "[CV]  criterion=gini, max_features=log2, n_estimators=200, total=   2.0s\n",
      "[CV] criterion=gini, max_features=log2, n_estimators=200 .............\n",
      "[CV]  criterion=gini, max_features=log2, n_estimators=200, total=   2.1s\n",
      "[CV] criterion=gini, max_features=log2, n_estimators=200 .............\n",
      "[CV]  criterion=gini, max_features=log2, n_estimators=200, total=   2.1s\n",
      "[CV] criterion=gini, max_features=log2, n_estimators=200 .............\n",
      "[CV]  criterion=gini, max_features=log2, n_estimators=200, total=   2.1s\n",
      "[CV] criterion=gini, max_features=log2, n_estimators=200 .............\n",
      "[CV]  criterion=gini, max_features=log2, n_estimators=200, total=   2.0s\n",
      "[CV] criterion=gini, max_features=log2, n_estimators=500 .............\n",
      "[CV]  criterion=gini, max_features=log2, n_estimators=500, total=   5.2s\n",
      "[CV] criterion=gini, max_features=log2, n_estimators=500 .............\n",
      "[CV]  criterion=gini, max_features=log2, n_estimators=500, total=   5.2s\n",
      "[CV] criterion=gini, max_features=log2, n_estimators=500 .............\n",
      "[CV]  criterion=gini, max_features=log2, n_estimators=500, total=   5.2s\n",
      "[CV] criterion=gini, max_features=log2, n_estimators=500 .............\n",
      "[CV]  criterion=gini, max_features=log2, n_estimators=500, total=   4.9s\n",
      "[CV] criterion=gini, max_features=log2, n_estimators=500 .............\n",
      "[CV]  criterion=gini, max_features=log2, n_estimators=500, total=   4.8s\n",
      "[CV] criterion=entropy, max_features=sqrt, n_estimators=10 ...........\n",
      "[CV]  criterion=entropy, max_features=sqrt, n_estimators=10, total=   0.2s\n",
      "[CV] criterion=entropy, max_features=sqrt, n_estimators=10 ...........\n",
      "[CV]  criterion=entropy, max_features=sqrt, n_estimators=10, total=   0.1s\n",
      "[CV] criterion=entropy, max_features=sqrt, n_estimators=10 ...........\n",
      "[CV]  criterion=entropy, max_features=sqrt, n_estimators=10, total=   0.2s\n",
      "[CV] criterion=entropy, max_features=sqrt, n_estimators=10 ...........\n",
      "[CV]  criterion=entropy, max_features=sqrt, n_estimators=10, total=   0.1s\n",
      "[CV] criterion=entropy, max_features=sqrt, n_estimators=10 ...........\n",
      "[CV]  criterion=entropy, max_features=sqrt, n_estimators=10, total=   0.1s\n",
      "[CV] criterion=entropy, max_features=sqrt, n_estimators=100 ..........\n",
      "[CV]  criterion=entropy, max_features=sqrt, n_estimators=100, total=   1.4s\n",
      "[CV] criterion=entropy, max_features=sqrt, n_estimators=100 ..........\n",
      "[CV]  criterion=entropy, max_features=sqrt, n_estimators=100, total=   1.5s\n",
      "[CV] criterion=entropy, max_features=sqrt, n_estimators=100 ..........\n",
      "[CV]  criterion=entropy, max_features=sqrt, n_estimators=100, total=   1.5s\n",
      "[CV] criterion=entropy, max_features=sqrt, n_estimators=100 ..........\n",
      "[CV]  criterion=entropy, max_features=sqrt, n_estimators=100, total=   1.5s\n",
      "[CV] criterion=entropy, max_features=sqrt, n_estimators=100 ..........\n",
      "[CV]  criterion=entropy, max_features=sqrt, n_estimators=100, total=   1.5s\n",
      "[CV] criterion=entropy, max_features=sqrt, n_estimators=200 ..........\n",
      "[CV]  criterion=entropy, max_features=sqrt, n_estimators=200, total=   3.1s\n",
      "[CV] criterion=entropy, max_features=sqrt, n_estimators=200 ..........\n",
      "[CV]  criterion=entropy, max_features=sqrt, n_estimators=200, total=   3.1s\n",
      "[CV] criterion=entropy, max_features=sqrt, n_estimators=200 ..........\n",
      "[CV]  criterion=entropy, max_features=sqrt, n_estimators=200, total=   3.0s\n",
      "[CV] criterion=entropy, max_features=sqrt, n_estimators=200 ..........\n",
      "[CV]  criterion=entropy, max_features=sqrt, n_estimators=200, total=   3.0s\n",
      "[CV] criterion=entropy, max_features=sqrt, n_estimators=200 ..........\n",
      "[CV]  criterion=entropy, max_features=sqrt, n_estimators=200, total=   3.0s\n",
      "[CV] criterion=entropy, max_features=sqrt, n_estimators=500 ..........\n",
      "[CV]  criterion=entropy, max_features=sqrt, n_estimators=500, total=   7.6s\n",
      "[CV] criterion=entropy, max_features=sqrt, n_estimators=500 ..........\n",
      "[CV]  criterion=entropy, max_features=sqrt, n_estimators=500, total=   7.7s\n",
      "[CV] criterion=entropy, max_features=sqrt, n_estimators=500 ..........\n",
      "[CV]  criterion=entropy, max_features=sqrt, n_estimators=500, total=   7.5s\n",
      "[CV] criterion=entropy, max_features=sqrt, n_estimators=500 ..........\n"
     ]
    },
    {
     "name": "stdout",
     "output_type": "stream",
     "text": [
      "[CV]  criterion=entropy, max_features=sqrt, n_estimators=500, total=   7.5s\n",
      "[CV] criterion=entropy, max_features=sqrt, n_estimators=500 ..........\n",
      "[CV]  criterion=entropy, max_features=sqrt, n_estimators=500, total=   7.3s\n",
      "[CV] criterion=entropy, max_features=log2, n_estimators=10 ...........\n",
      "[CV]  criterion=entropy, max_features=log2, n_estimators=10, total=   0.2s\n",
      "[CV] criterion=entropy, max_features=log2, n_estimators=10 ...........\n",
      "[CV]  criterion=entropy, max_features=log2, n_estimators=10, total=   0.2s\n",
      "[CV] criterion=entropy, max_features=log2, n_estimators=10 ...........\n",
      "[CV]  criterion=entropy, max_features=log2, n_estimators=10, total=   0.2s\n",
      "[CV] criterion=entropy, max_features=log2, n_estimators=10 ...........\n",
      "[CV]  criterion=entropy, max_features=log2, n_estimators=10, total=   0.2s\n",
      "[CV] criterion=entropy, max_features=log2, n_estimators=10 ...........\n",
      "[CV]  criterion=entropy, max_features=log2, n_estimators=10, total=   0.2s\n",
      "[CV] criterion=entropy, max_features=log2, n_estimators=100 ..........\n",
      "[CV]  criterion=entropy, max_features=log2, n_estimators=100, total=   1.5s\n",
      "[CV] criterion=entropy, max_features=log2, n_estimators=100 ..........\n",
      "[CV]  criterion=entropy, max_features=log2, n_estimators=100, total=   1.5s\n",
      "[CV] criterion=entropy, max_features=log2, n_estimators=100 ..........\n",
      "[CV]  criterion=entropy, max_features=log2, n_estimators=100, total=   1.5s\n",
      "[CV] criterion=entropy, max_features=log2, n_estimators=100 ..........\n",
      "[CV]  criterion=entropy, max_features=log2, n_estimators=100, total=   1.5s\n",
      "[CV] criterion=entropy, max_features=log2, n_estimators=100 ..........\n",
      "[CV]  criterion=entropy, max_features=log2, n_estimators=100, total=   1.5s\n",
      "[CV] criterion=entropy, max_features=log2, n_estimators=200 ..........\n",
      "[CV]  criterion=entropy, max_features=log2, n_estimators=200, total=   3.0s\n",
      "[CV] criterion=entropy, max_features=log2, n_estimators=200 ..........\n",
      "[CV]  criterion=entropy, max_features=log2, n_estimators=200, total=   3.1s\n",
      "[CV] criterion=entropy, max_features=log2, n_estimators=200 ..........\n",
      "[CV]  criterion=entropy, max_features=log2, n_estimators=200, total=   3.0s\n",
      "[CV] criterion=entropy, max_features=log2, n_estimators=200 ..........\n",
      "[CV]  criterion=entropy, max_features=log2, n_estimators=200, total=   3.0s\n",
      "[CV] criterion=entropy, max_features=log2, n_estimators=200 ..........\n",
      "[CV]  criterion=entropy, max_features=log2, n_estimators=200, total=   2.9s\n",
      "[CV] criterion=entropy, max_features=log2, n_estimators=500 ..........\n",
      "[CV]  criterion=entropy, max_features=log2, n_estimators=500, total=   7.4s\n",
      "[CV] criterion=entropy, max_features=log2, n_estimators=500 ..........\n",
      "[CV]  criterion=entropy, max_features=log2, n_estimators=500, total=   7.6s\n",
      "[CV] criterion=entropy, max_features=log2, n_estimators=500 ..........\n",
      "[CV]  criterion=entropy, max_features=log2, n_estimators=500, total=   7.5s\n",
      "[CV] criterion=entropy, max_features=log2, n_estimators=500 ..........\n",
      "[CV]  criterion=entropy, max_features=log2, n_estimators=500, total=   7.4s\n",
      "[CV] criterion=entropy, max_features=log2, n_estimators=500 ..........\n",
      "[CV]  criterion=entropy, max_features=log2, n_estimators=500, total=   7.4s\n"
     ]
    },
    {
     "name": "stderr",
     "output_type": "stream",
     "text": [
      "[Parallel(n_jobs=1)]: Done  80 out of  80 | elapsed:  3.4min finished\n"
     ]
    },
    {
     "data": {
      "text/plain": [
       "GridSearchCV(estimator=RandomForestClassifier(n_estimators=200),\n",
       "             param_grid={'criterion': ['gini', 'entropy'],\n",
       "                         'max_features': ['sqrt', 'log2'],\n",
       "                         'n_estimators': [10, 100, 200, 500]},\n",
       "             verbose=2)"
      ]
     },
     "execution_count": 14,
     "metadata": {},
     "output_type": "execute_result"
    }
   ],
   "source": [
    "# Train the model with GridSearch\n",
    "grid.fit(X_train_scaled, y_train)"
   ]
  },
  {
   "cell_type": "code",
   "execution_count": 15,
   "metadata": {},
   "outputs": [
    {
     "name": "stdout",
     "output_type": "stream",
     "text": [
      "{'criterion': 'entropy', 'max_features': 'log2', 'n_estimators': 500}\n",
      "0.9019613372241102\n"
     ]
    }
   ],
   "source": [
    "print(grid.best_params_)\n",
    "print(grid.best_score_)"
   ]
  },
  {
   "cell_type": "code",
   "execution_count": 16,
   "metadata": {},
   "outputs": [
    {
     "data": {
      "text/plain": [
       "array([0.12496754, 0.09369204, 0.12477474, 0.04572647, 0.04199871,\n",
       "       0.03015147, 0.04120602, 0.03206786, 0.05238313, 0.08372889,\n",
       "       0.03337697, 0.02863531, 0.13053276, 0.00961169, 0.02116585,\n",
       "       0.02064986, 0.02145717, 0.0220741 , 0.02090177, 0.02089764])"
      ]
     },
     "execution_count": 16,
     "metadata": {},
     "output_type": "execute_result"
    }
   ],
   "source": [
    "model.feature_importances_"
   ]
  },
  {
   "cell_type": "markdown",
   "metadata": {},
   "source": [
    "# Save the Model"
   ]
  },
  {
   "cell_type": "code",
   "execution_count": 17,
   "metadata": {},
   "outputs": [
    {
     "data": {
      "text/plain": [
       "['randomforest.sav']"
      ]
     },
     "execution_count": 17,
     "metadata": {},
     "output_type": "execute_result"
    }
   ],
   "source": [
    "# save your model by updating \"your_name\" with your name\n",
    "# and \"your_model\" with your model variable\n",
    "# be sure to turn this in to BCS\n",
    "# if joblib fails to import, try running the command to install in terminal/git-bash\n",
    "import joblib\n",
    "filename = 'randomforest.sav'\n",
    "joblib.dump(model, filename)"
   ]
  },
  {
   "cell_type": "code",
   "execution_count": null,
   "metadata": {},
   "outputs": [],
   "source": []
  }
 ],
 "metadata": {
  "kernel_info": {
   "name": "dev"
  },
  "kernelspec": {
   "display_name": "Python 3",
   "language": "python",
   "name": "python3"
  },
  "language_info": {
   "codemirror_mode": {
    "name": "ipython",
    "version": 3
   },
   "file_extension": ".py",
   "mimetype": "text/x-python",
   "name": "python",
   "nbconvert_exporter": "python",
   "pygments_lexer": "ipython3",
   "version": "3.8.5"
  },
  "nteract": {
   "version": "0.12.3"
  }
 },
 "nbformat": 4,
 "nbformat_minor": 2
}
